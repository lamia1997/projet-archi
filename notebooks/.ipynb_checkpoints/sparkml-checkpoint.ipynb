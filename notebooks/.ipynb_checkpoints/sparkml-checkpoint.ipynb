{
 "cells": [
  {
   "cell_type": "code",
   "execution_count": 52,
   "id": "b1b02e00-21eb-4232-9d4d-dc445c708e34",
   "metadata": {},
   "outputs": [],
   "source": [
    "from pyspark.sql import SparkSession \n",
    "from pyspark.sql.types import IntegerType, ArrayType, BooleanType, StringType\n",
    "from pyspark.sql.functions import udf\n",
    "from pyspark.sql.functions import when\n",
    "import pandas as pd\n",
    "import numpy as np\n",
    "\n",
    "spark3 = SparkSession \\\n",
    "    .builder \\\n",
    "    .master('spark://bc2f5ec61feb:7077')\\\n",
    "    .appName(\"lamiaa\")\\\n",
    "    .getOrCreate()"
   ]
  },
  {
   "cell_type": "code",
   "execution_count": 53,
   "id": "2176bd8c",
   "metadata": {},
   "outputs": [],
   "source": [
    "df = spark3.read.csv('Womens-.csv', header= True) "
   ]
  },
  {
   "cell_type": "code",
   "execution_count": 54,
   "id": "f4f545b2-1cc1-4832-b66e-1ed53fad26be",
   "metadata": {},
   "outputs": [],
   "source": [
    "dat = df.drop('Positive Feedback Count','_c0','Clothing ID','Division Name','Department Name','Class Name','Age', 'Title','Recommended IND','Recommended IND')"
   ]
  },
  {
   "cell_type": "code",
   "execution_count": 55,
   "id": "4b5dda3f-9217-458c-a0c9-43cc73766f0f",
   "metadata": {},
   "outputs": [
    {
     "name": "stdout",
     "output_type": "stream",
     "text": [
      "+--------------------+--------------------+\n",
      "|         Review Text|              Rating|\n",
      "+--------------------+--------------------+\n",
      "|Absolutely wonder...|                   4|\n",
      "|\"Love this dress!...|                   5|\n",
      "|I had such high h...|                   3|\n",
      "|I love, love, lov...|                   5|\n",
      "|This shirt is ver...|                   5|\n",
      "|I love tracy rees...|                   2|\n",
      "|I aded this in my...|                   5|\n",
      "|I ordered this in...|                   4|\n",
      "|I love this dress...|                   5|\n",
      "|\"I'm 5\"\"5' and 12...| a s petite will ...|\n",
      "|Dress runs small ...|                   3|\n",
      "|This dress is per...|                   5|\n",
      "|More and more i f...|                   5|\n",
      "|Bought the black ...|                null|\n",
      "|                null|                null|\n",
      "|                null|                null|\n",
      "|           Initmates|            Intimate|\n",
      "|This is a nice ch...|                   3|\n",
      "|I took these out ...|                   4|\n",
      "|Material and colo...|                   3|\n",
      "+--------------------+--------------------+\n",
      "only showing top 20 rows\n",
      "\n"
     ]
    }
   ],
   "source": [
    "dat.show()\n"
   ]
  },
  {
   "cell_type": "code",
   "execution_count": 13,
   "id": "f8b97f1c-eda7-4b4c-a3dc-d8981cd85479",
   "metadata": {},
   "outputs": [],
   "source": [
    "\n",
    "dat = dat.withColumn(\"Rating\", dat[\"Rating\"].cast(IntegerType()))\n",
    "dat = dat.withColumn(\"Review Text\", dat[\"Review Text\"].cast(StringType()))\n"
   ]
  },
  {
   "cell_type": "code",
   "execution_count": 19,
   "id": "7db752c8",
   "metadata": {},
   "outputs": [
    {
     "name": "stdout",
     "output_type": "stream",
     "text": [
      "+--------------------+------+\n",
      "|              Review|Rating|\n",
      "+--------------------+------+\n",
      "|Absolutely wonder...|     4|\n",
      "|\"Love this dress!...|     5|\n",
      "|I had such high h...|     3|\n",
      "|I love, love, lov...|     5|\n",
      "|This shirt is ver...|     5|\n",
      "|I love tracy rees...|     2|\n",
      "|I aded this in my...|     5|\n",
      "|I ordered this in...|     4|\n",
      "|I love this dress...|     5|\n",
      "|\"I'm 5\"\"5' and 12...|  null|\n",
      "|Dress runs small ...|     3|\n",
      "|This dress is per...|     5|\n",
      "|More and more i f...|     5|\n",
      "|Bought the black ...|  null|\n",
      "|                null|  null|\n",
      "|                null|  null|\n",
      "|           Initmates|  null|\n",
      "|This is a nice ch...|     3|\n",
      "|I took these out ...|     4|\n",
      "|Material and colo...|     3|\n",
      "+--------------------+------+\n",
      "only showing top 20 rows\n",
      "\n"
     ]
    }
   ],
   "source": [
    "dat.show()"
   ]
  },
  {
   "cell_type": "code",
   "execution_count": 20,
   "id": "cef75a16-ed69-4d3f-b89e-0bdea3bb521b",
   "metadata": {},
   "outputs": [],
   "source": [
    "dat = dat.dropDuplicates()"
   ]
  },
  {
   "cell_type": "code",
   "execution_count": 21,
   "id": "11b2c82e-bd2c-4108-ae05-6539ea436bf5",
   "metadata": {},
   "outputs": [],
   "source": [
    "data = dat.dropna()"
   ]
  },
  {
   "cell_type": "code",
   "execution_count": 63,
   "id": "9713e830",
   "metadata": {},
   "outputs": [
    {
     "name": "stdout",
     "output_type": "stream",
     "text": [
      "+--------------------+------+\n",
      "|              Review|Rating|\n",
      "+--------------------+------+\n",
      "|Omg - wish it cam...|     1|\n",
      "|This is a beautif...|     0|\n",
      "|This skirt fits m...|     1|\n",
      "|I bought three of...|     0|\n",
      "|I can't figure ou...|     0|\n",
      "|Love love love th...|     1|\n",
      "|I ordered this in...|     1|\n",
      "|The colors, style...|     1|\n",
      "|This dress has be...|     1|\n",
      "|Cute, cool dress ...|     1|\n",
      "|This dress is ama...|     1|\n",
      "|I've received so ...|     1|\n",
      "|The concept of th...|     0|\n",
      "|I can't decide on...|     1|\n",
      "|This top was gorg...|     0|\n",
      "|Like another revi...|     1|\n",
      "|I love this top, ...|     1|\n",
      "|I love the idea o...|     1|\n",
      "|I reallllly love ...|     1|\n",
      "|This shirt runs e...|     0|\n",
      "+--------------------+------+\n",
      "only showing top 20 rows\n",
      "\n"
     ]
    }
   ],
   "source": [
    "data.show()"
   ]
  },
  {
   "cell_type": "code",
   "execution_count": 64,
   "id": "77f32523-5fd2-4091-99ea-1c80249b27ea",
   "metadata": {},
   "outputs": [],
   "source": [
    "(set1, set2) = data.randomSplit([0.7, 0.3])"
   ]
  },
  {
   "cell_type": "code",
   "execution_count": 16,
   "id": "b4532305-096d-4fc2-8634-fb6b25ec500e",
   "metadata": {},
   "outputs": [],
   "source": [
    "set1=set1.dropna(subset=['Rating'])"
   ]
  },
  {
   "cell_type": "code",
   "execution_count": 20,
   "id": "dfeeed92-652c-4e91-8332-42ff251c0ec0",
   "metadata": {},
   "outputs": [
    {
     "data": {
      "text/plain": [
       "12902"
      ]
     },
     "execution_count": 20,
     "metadata": {},
     "output_type": "execute_result"
    }
   ],
   "source": [
    "set1.count()"
   ]
  },
  {
   "cell_type": "code",
   "execution_count": 29,
   "id": "6ed340c8-accb-4a2c-b574-e22d4063d86e",
   "metadata": {},
   "outputs": [],
   "source": [
    "set4=set1.dropna()"
   ]
  },
  {
   "cell_type": "code",
   "execution_count": 24,
   "id": "011eabb5-8e1b-459d-8658-c7b637243ee2",
   "metadata": {},
   "outputs": [],
   "source": [
    "data = data.withColumn(\"Rating\", when(data.Rating <= 3 ,0)\n",
    "                                 .when(data.Rating >3 ,1))"
   ]
  },
  {
   "cell_type": "code",
   "execution_count": 25,
   "id": "159b8f12-19a8-4729-a6f4-ffe831921436",
   "metadata": {},
   "outputs": [
    {
     "name": "stdout",
     "output_type": "stream",
     "text": [
      "+--------------------+------+\n",
      "|              Review|Rating|\n",
      "+--------------------+------+\n",
      "|Omg - wish it cam...|     1|\n",
      "|This is a beautif...|     0|\n",
      "|This skirt fits m...|     1|\n",
      "|I bought three of...|     0|\n",
      "|I can't figure ou...|     0|\n",
      "|Love love love th...|     1|\n",
      "|I ordered this in...|     1|\n",
      "|The colors, style...|     1|\n",
      "|This dress has be...|     1|\n",
      "|Cute, cool dress ...|     1|\n",
      "|This dress is ama...|     1|\n",
      "|I've received so ...|     1|\n",
      "|The concept of th...|     0|\n",
      "|I can't decide on...|     1|\n",
      "|This top was gorg...|     0|\n",
      "|Like another revi...|     1|\n",
      "|I love this top, ...|     1|\n",
      "|I love the idea o...|     1|\n",
      "|I reallllly love ...|     1|\n",
      "|This shirt runs e...|     0|\n",
      "+--------------------+------+\n",
      "only showing top 20 rows\n",
      "\n"
     ]
    }
   ],
   "source": [
    "data.show()"
   ]
  },
  {
   "cell_type": "code",
   "execution_count": 65,
   "id": "bc102cd5",
   "metadata": {},
   "outputs": [],
   "source": [
    "(training, test) = data.randomSplit([0.7, 0.3])"
   ]
  },
  {
   "cell_type": "code",
   "execution_count": 17,
   "id": "7c8a5123-92b7-4f5d-986e-fddea4845c73",
   "metadata": {},
   "outputs": [
    {
     "name": "stdout",
     "output_type": "stream",
     "text": [
      "+--------------------+------+\n",
      "|              Review|Rating|\n",
      "+--------------------+------+\n",
      "|                null|     2|\n",
      "| although i doubt...|     5|\n",
      "| boxy tee will em...|     5|\n",
      "| but also not sof...|     4|\n",
      "| but still love it.\"|     5|\n",
      "| but was no way f...|     3|\n",
      "| dress boots and ...|     5|\n",
      "| i'd need to tuck...|     3|\n",
      "| if you're lucky ...|     5|\n",
      "| it probably woul...|     3|\n",
      "| making my usual ...|     5|\n",
      "| so you can bring...|     5|\n",
      "| the medium pleat...|     4|\n",
      "| the thing that s...|     3|\n",
      "| this dress in a ...|     4|\n",
      "|       while adding\"|     3|\n",
      "|\"A friend of mine...|     5|\n",
      "|\"Absolutely adora...|     5|\n",
      "|\"Adorable & comfo...|     5|\n",
      "|\"After multiple p...|     5|\n",
      "+--------------------+------+\n",
      "only showing top 20 rows\n",
      "\n"
     ]
    }
   ],
   "source": [
    "set1.show()"
   ]
  },
  {
   "cell_type": "code",
   "execution_count": 18,
   "id": "2cce8b0e-27c9-40ee-82c8-47b7ceb595b8",
   "metadata": {},
   "outputs": [
    {
     "name": "stdout",
     "output_type": "stream",
     "text": [
      "+--------------------+------+\n",
      "|              Review|Rating|\n",
      "+--------------------+------+\n",
      "|           106 lbs.)|  null|\n",
      "|                 34c|  null|\n",
      "|  also good for you.|  null|\n",
      "| and it is a nice...|     4|\n",
      "| and someone tell...|  null|\n",
      "| and the length a...|  null|\n",
      "| and usual wear a...|     4|\n",
      "| because it was r...|     3|\n",
      "| but i decided to...|  null|\n",
      "| but likewise you...|     4|\n",
      "| but on my wish l...|     5|\n",
      "| but the store ha...|  null|\n",
      "| but to retailer'...|  null|\n",
      "| i don't recommen...|  null|\n",
      "| i would not cons...|  null|\n",
      "| it's not sheer s...|     5|\n",
      "|         so-to-speak|  null|\n",
      "| the model is wea...|  null|\n",
      "| the scallop part...|  null|\n",
      "| which i run into...|  null|\n",
      "+--------------------+------+\n",
      "only showing top 20 rows\n",
      "\n"
     ]
    }
   ],
   "source": [
    "set2.show()"
   ]
  },
  {
   "cell_type": "code",
   "execution_count": 22,
   "id": "581902a1-2a6e-4262-81bc-5f3d67262057",
   "metadata": {},
   "outputs": [
    {
     "data": {
      "text/plain": [
       "DataFrame[Review: string, Rating: int]"
      ]
     },
     "execution_count": 22,
     "metadata": {},
     "output_type": "execute_result"
    }
   ],
   "source": [
    "set2.dropna()"
   ]
  },
  {
   "cell_type": "code",
   "execution_count": 23,
   "id": "db923126-f850-4b04-90f7-42f855156bf6",
   "metadata": {},
   "outputs": [
    {
     "data": {
      "text/plain": [
       "6798"
      ]
     },
     "execution_count": 23,
     "metadata": {},
     "output_type": "execute_result"
    }
   ],
   "source": [
    "set2.count()"
   ]
  },
  {
   "cell_type": "code",
   "execution_count": 24,
   "id": "e85643ec-da0e-4f8f-899d-26e46733ddc5",
   "metadata": {},
   "outputs": [],
   "source": [
    "set3 = set2.dropna(subset=['Rating'])"
   ]
  },
  {
   "cell_type": "code",
   "execution_count": 25,
   "id": "4563d1e7-31a2-4314-b28b-94bb76b70da8",
   "metadata": {},
   "outputs": [
    {
     "data": {
      "text/plain": [
       "5480"
      ]
     },
     "execution_count": 25,
     "metadata": {},
     "output_type": "execute_result"
    }
   ],
   "source": [
    "set3.count()"
   ]
  },
  {
   "cell_type": "code",
   "execution_count": 138,
   "id": "82b21fa8-1e6b-4649-a3b3-06269612bfb7",
   "metadata": {},
   "outputs": [
    {
     "name": "stdout",
     "output_type": "stream",
     "text": [
      "+--------------------+------+\n",
      "|              Review|Rating|\n",
      "+--------------------+------+\n",
      "| and usual wear a...|     4|\n",
      "| but was no way f...|     3|\n",
      "| so you can bring...|     5|\n",
      "| the thing that s...|     3|\n",
      "|\"A flattering sof...|     4|\n",
      "|\"A friend of mine...|     5|\n",
      "|\"After multiple p...|     5|\n",
      "|\"Agree with other...|     3|\n",
      "|\"Beautiful blouse...|     3|\n",
      "|\"Beautiful spring...|     4|\n",
      "|\"Beautiful sweate...|     5|\n",
      "|\"Bought the green...|     5|\n",
      "|\"Bought this in t...|     5|\n",
      "|\"Bought this shir...|     5|\n",
      "|\"Classic dress wi...|     5|\n",
      "|\"Cute shirt. i'm ...|     4|\n",
      "|\"Cute tee shirt b...|     4|\n",
      "|\"Great shirt. the...|     5|\n",
      "|\"I am 5'8\"\" size ...|     4|\n",
      "|\"I am returning t...|     5|\n",
      "+--------------------+------+\n",
      "only showing top 20 rows\n",
      "\n"
     ]
    }
   ],
   "source": [
    "set3.show()"
   ]
  },
  {
   "cell_type": "code",
   "execution_count": 26,
   "id": "eeec98f5-fae1-469a-914e-7df48cdb0120",
   "metadata": {},
   "outputs": [],
   "source": [
    "set3 = set3.withColumn(\"Rating\", when(set3.Rating <= 3 ,0)\n",
    "                                 .when(set3.Rating >3 ,1))"
   ]
  },
  {
   "cell_type": "code",
   "execution_count": 27,
   "id": "4297929c-cf74-408e-ab8d-550c48a4430c",
   "metadata": {},
   "outputs": [
    {
     "name": "stdout",
     "output_type": "stream",
     "text": [
      "+--------------------+------+\n",
      "|              Review|Rating|\n",
      "+--------------------+------+\n",
      "| and it is a nice...|     1|\n",
      "| and usual wear a...|     1|\n",
      "| because it was r...|     0|\n",
      "| but likewise you...|     1|\n",
      "| but on my wish l...|     1|\n",
      "| it's not sheer s...|     1|\n",
      "|\"A flattering sof...|     1|\n",
      "|\"A great staple t...|     1|\n",
      "|\"Absolutely love ...|     0|\n",
      "|\"After reading pr...|     1|\n",
      "|\"Agree with other...|     0|\n",
      "|\"As others mentio...|     1|\n",
      "|\"Beautiful spring...|     1|\n",
      "|\"Bought the green...|     1|\n",
      "|\"Bought this in t...|     1|\n",
      "|\"Bought this shir...|     1|\n",
      "|\"Great fit. love ...|     1|\n",
      "|\"Great top. i bou...|     1|\n",
      "|\"I absolutely lov...|     1|\n",
      "|\"I bought the bla...|     1|\n",
      "+--------------------+------+\n",
      "only showing top 20 rows\n",
      "\n"
     ]
    }
   ],
   "source": [
    "set3.show()"
   ]
  },
  {
   "cell_type": "code",
   "execution_count": 26,
   "id": "06bfb330-4eb6-442d-b3fc-5be4320e3c08",
   "metadata": {},
   "outputs": [
    {
     "data": {
      "text/plain": [
       "[Row(Review='Omg - wish it came in more colors,,', Rating=1, Review2=['omg', '-', 'wish', 'it', 'came', 'in', 'more', 'colors,,']),\n",
       " Row(Review='This is a beautiful fabric and the skirt is so nice. what is wrong is the cut of the skirt. one side bells out more than the other, giving it an off center look from the front. my legs were not centered.', Rating=0, Review2=['this', 'is', 'a', 'beautiful', 'fabric', 'and', 'the', 'skirt', 'is', 'so', 'nice.', 'what', 'is', 'wrong', 'is', 'the', 'cut', 'of', 'the', 'skirt.', 'one', 'side', 'bells', 'out', 'more', 'than', 'the', 'other,', 'giving', 'it', 'an', 'off', 'center', 'look', 'from', 'the', 'front.', 'my', 'legs', 'were', 'not', 'centered.'])]"
      ]
     },
     "execution_count": 26,
     "metadata": {},
     "output_type": "execute_result"
    }
   ],
   "source": [
    "from pyspark.ml.feature import HashingTF, Tokenizer, IDF\n",
    "from pyspark.ml import Pipeline\n",
    "from pyspark.ml.classification import LogisticRegression\n",
    "from pyspark.ml.feature import HashingTF, Tokenizer, NGram, StopWordsRemover\n",
    "tokenizer = Tokenizer(inputCol=\"Review\", outputCol=\"Review2\")\n",
    "tokenizer2 = tokenizer.transform(data)\n",
    "\n",
    "\n",
    "tokenizer2.take(2)"
   ]
  },
  {
   "cell_type": "code",
   "execution_count": 27,
   "id": "1e9dae9a-efea-4abe-ba83-3b1dd04a8d0b",
   "metadata": {},
   "outputs": [],
   "source": [
    "remover = StopWordsRemover()\n",
    "remover.setInputCol(\"Review2\")\n",
    "remover.setOutputCol(\"Review3\")\n",
    "tokenized= remover.transform(tokenizer2)"
   ]
  },
  {
   "cell_type": "code",
   "execution_count": null,
   "id": "993646d7-b6c6-4f82-b54d-13787ccd437b",
   "metadata": {},
   "outputs": [],
   "source": []
  },
  {
   "cell_type": "code",
   "execution_count": 28,
   "id": "bec1c0e7-6f64-4bfc-a486-abb3070322c3",
   "metadata": {},
   "outputs": [],
   "source": [
    "ngram = NGram(n=2)\n",
    "ngram.setInputCol(\"Review2\")\n",
    "ngram.setOutputCol(\"nGrams\")\n",
    "ngram2=ngram.transform(tokenized)\n"
   ]
  },
  {
   "cell_type": "code",
   "execution_count": 29,
   "id": "c24eb4e4-8b3a-4866-baae-095cc4e01244",
   "metadata": {},
   "outputs": [],
   "source": [
    "hashingTF = HashingTF(inputCol=\"nGrams\", outputCol=\"words\")\n",
    "hashingTF.setNumFeatures(2)\n",
    "hashin=hashingTF.transform(ngram2)\n"
   ]
  },
  {
   "cell_type": "code",
   "execution_count": 30,
   "id": "6d78667e-16f3-467c-a19a-bd472e548308",
   "metadata": {},
   "outputs": [
    {
     "data": {
      "text/plain": [
       "SparseVector(2, {0: 0.0155, 1: 0.0108})"
      ]
     },
     "execution_count": 30,
     "metadata": {},
     "output_type": "execute_result"
    }
   ],
   "source": [
    "from pyspark.ml.linalg import DenseVector\n",
    "idf = IDF(minDocFreq=3)\n",
    "idf.setInputCol(\"words\")\n",
    "idf.setOutputCol(\"idf\")\n",
    "model = idf.fit(hashin)\n",
    "model.setOutputCol(\"idf\")\n",
    "model.getMinDocFreq()\n",
    "model.idf\n",
    "model.docFreq\n",
    "model.numDocs == hashin.count()\n",
    "model.transform(hashin).head().idf\n",
    "\n"
   ]
  },
  {
   "cell_type": "code",
   "execution_count": 31,
   "id": "29556da8-5a4d-40b2-917a-5089a8c72732",
   "metadata": {},
   "outputs": [],
   "source": [
    "idf = IDF(inputCol=\"words\", outputCol=\"features\")\n",
    "idfModel = idf.fit(hashin)\n",
    "rescaledData = idfModel.transform(hashin)"
   ]
  },
  {
   "cell_type": "code",
   "execution_count": 32,
   "id": "f960b343",
   "metadata": {},
   "outputs": [],
   "source": [
    "(pdf0, pdf1) = rescaledData.randomSplit([0.7, 0.3])"
   ]
  },
  {
   "cell_type": "code",
   "execution_count": 33,
   "id": "b609eb48-c601-4255-80f2-d52c1c53eac7",
   "metadata": {},
   "outputs": [],
   "source": [
    "from pyspark.ml.classification import LogisticRegression"
   ]
  },
  {
   "cell_type": "code",
   "execution_count": 34,
   "id": "35179c37-84cf-4b5d-8346-dc861f795566",
   "metadata": {},
   "outputs": [],
   "source": [
    "lr = LogisticRegression(maxIter=10, regParam=0.001)"
   ]
  },
  {
   "cell_type": "code",
   "execution_count": 35,
   "id": "fd8e4ab1-7492-4a65-95b9-407f9deea09d",
   "metadata": {},
   "outputs": [],
   "source": [
    "mlor = LogisticRegression(regParam=0.1, elasticNetParam=1.0, labelCol='Rating', featuresCol='features')\n",
    "mlorModel = mlor.fit(pdf1)\n",
    "mlorModel = mlorModel.transform(pdf1)"
   ]
  },
  {
   "cell_type": "code",
   "execution_count": 36,
   "id": "c6ae5418-5ae6-48d0-b680-3f2d3ba6a9c1",
   "metadata": {},
   "outputs": [
    {
     "data": {
      "text/plain": [
       "DataFrame[Review: string, Rating: int, Review2: array<string>, Review3: array<string>, nGrams: array<string>, words: vector, features: vector, rawPrediction: vector, probability: vector, prediction: double]"
      ]
     },
     "execution_count": 36,
     "metadata": {},
     "output_type": "execute_result"
    }
   ],
   "source": [
    "mlorModel"
   ]
  },
  {
   "cell_type": "code",
   "execution_count": 37,
   "id": "03969aef-970d-437f-916f-60bfdd157293",
   "metadata": {},
   "outputs": [],
   "source": [
    "from pyspark.ml.linalg import Vectors\n",
    "from pyspark.ml.evaluation import BinaryClassificationEvaluator\n"
   ]
  },
  {
   "cell_type": "code",
   "execution_count": 38,
   "id": "66926030-8abd-4cdf-b357-3fc002b8bc1d",
   "metadata": {},
   "outputs": [],
   "source": [
    "evaluator2 = BinaryClassificationEvaluator(labelCol=\"Rating\", rawPredictionCol=\"words\", metricName='areaUnderROC')"
   ]
  },
  {
   "cell_type": "code",
   "execution_count": 39,
   "id": "7f7ed971-a074-4f9a-9898-ec167c88b1b5",
   "metadata": {},
   "outputs": [
    {
     "data": {
      "text/plain": [
       "0.4652582087723596"
      ]
     },
     "execution_count": 39,
     "metadata": {},
     "output_type": "execute_result"
    }
   ],
   "source": [
    "evaluator2.evaluate(mlorModel)"
   ]
  },
  {
   "cell_type": "code",
   "execution_count": 332,
   "id": "f80404c9-61b9-4a0d-8f52-26ce9ab5b580",
   "metadata": {},
   "outputs": [
    {
     "name": "stdout",
     "output_type": "stream",
     "text": [
      "+--------------------+------+--------------------+--------------------+--------------------+--------------------+\n",
      "|              Review|Rating|             Review2|              nGrams|               words|            features|\n",
      "+--------------------+------+--------------------+--------------------+--------------------+--------------------+\n",
      "| although i doubt...|     1|[, although, i, d...|[ although, altho...| (2,[0,1],[9.0,9.0])|(2,[0,1],[0.03495...|\n",
      "| and it is a nice...|     1|[, and, it, is, a...|[ and, and it, it...|(2,[0,1],[25.0,21...|(2,[0,1],[0.09710...|\n",
      "| because it was r...|     0|[, because, it, w...|[ because, becaus...|(2,[0,1],[15.0,9.0])|(2,[0,1],[0.05826...|\n",
      "| boxy tee will em...|     1|[, boxy, tee, wil...|[ boxy, boxy tee,...| (2,[0,1],[4.0,3.0])|(2,[0,1],[0.01553...|\n",
      "| but also not sof...|     1|[, but, also, not...|[ but, but also, ...| (2,[0,1],[3.0,4.0])|(2,[0,1],[0.01165...|\n",
      "| but likewise you...|     1|[, but, likewise,...|[ but, but likewi...| (2,[0,1],[4.0,7.0])|(2,[0,1],[0.01553...|\n",
      "| but on my wish l...|     1|[, but, on, my, w...|[ but, but on, on...| (2,[0,1],[2.0,5.0])|(2,[0,1],[0.00776...|\n",
      "| but still love it.\"|     1|[, but, still, lo...|[ but, but still,...| (2,[0,1],[2.0,2.0])|(2,[0,1],[0.00776...|\n",
      "| dress boots and ...|     1|[, dress, boots, ...|[ dress, dress bo...|(2,[0,1],[19.0,14...|(2,[0,1],[0.07379...|\n",
      "| i'd need to tuck...|     0|[, i'd, need, to,...|[ i'd, i'd need, ...|(2,[0,1],[12.0,11...|(2,[0,1],[0.04660...|\n",
      "| if you're lucky ...|     1|[, if, you're, lu...|[ if, if you're, ...| (2,[0,1],[4.0,4.0])|(2,[0,1],[0.01553...|\n",
      "| it probably woul...|     0|[, it, probably, ...|[ it, it probably...| (2,[0,1],[8.0,4.0])|(2,[0,1],[0.03107...|\n",
      "| it's not sheer s...|     1|[, it's, not, she...|[ it's, it's not,...| (2,[0,1],[3.0,5.0])|(2,[0,1],[0.01165...|\n",
      "| making my usual ...|     1|[, making, my, us...|[ making, making ...| (2,[0,1],[5.0,6.0])|(2,[0,1],[0.01942...|\n",
      "| the medium pleat...|     1|[, the, medium, p...|[ the, the medium...| (2,[0,1],[2.0,9.0])|(2,[0,1],[0.00776...|\n",
      "| this dress in a ...|     1|[, this, dress, i...|[ this, this dres...| (2,[0,1],[8.0,8.0])|(2,[0,1],[0.03107...|\n",
      "|       while adding\"|     0|  [, while, adding\"]|[ while, while ad...| (2,[0,1],[1.0,1.0])|(2,[0,1],[0.00388...|\n",
      "|\"A great staple t...|     1|[\"a, great, stapl...|[\"a great, great ...|(2,[0,1],[7.0,10.0])|(2,[0,1],[0.02718...|\n",
      "|\"Absolutely adora...|     1|[\"absolutely, ado...|[\"absolutely ador...|(2,[0,1],[51.0,43...|(2,[0,1],[0.19808...|\n",
      "|\"Absolutely love ...|     0|[\"absolutely, lov...|[\"absolutely love...|(2,[0,1],[39.0,42...|(2,[0,1],[0.15148...|\n",
      "+--------------------+------+--------------------+--------------------+--------------------+--------------------+\n",
      "only showing top 20 rows\n",
      "\n"
     ]
    }
   ],
   "source": [
    "rescaledDat2.show()"
   ]
  },
  {
   "cell_type": "code",
   "execution_count": 333,
   "id": "14f2ce2b-3b70-40ca-a2f5-1476d95adbcf",
   "metadata": {},
   "outputs": [],
   "source": [
    "dat = dat.withColumn(\"Review Text\", dat[\"Review Text\"].cast(StringType()))"
   ]
  },
  {
   "cell_type": "code",
   "execution_count": 334,
   "id": "9312f2b5-fa0a-4418-8e21-3b3e02ed760f",
   "metadata": {},
   "outputs": [],
   "source": [
    "rescaledDat2 = rescaledData.withColumn(\"Rating\", when(rescaledData.Rating <= 3 ,0)\n",
    "                                 .when(rescaledData.Rating >3 ,1))"
   ]
  },
  {
   "cell_type": "code",
   "execution_count": 335,
   "id": "81d6f7bb-b743-4bf1-b6e0-a9fd6f35479a",
   "metadata": {},
   "outputs": [
    {
     "name": "stdout",
     "output_type": "stream",
     "text": [
      "+--------------------+------+--------------------+--------------------+--------------------+--------------------+--------------------+\n",
      "|              Review|Rating|             Review2|             Review3|              nGrams|               words|            features|\n",
      "+--------------------+------+--------------------+--------------------+--------------------+--------------------+--------------------+\n",
      "| although i doubt...|     1|[, although, i, d...|[, although, doub...|[ although, altho...| (2,[0,1],[9.0,9.0])|(2,[0,1],[0.03495...|\n",
      "| and it is a nice...|     1|[, and, it, is, a...|[, nice, casual, ...|[ and, and it, it...|(2,[0,1],[25.0,21...|(2,[0,1],[0.09710...|\n",
      "| because it was r...|     0|[, because, it, w...|[, really, hangin...|[ because, becaus...|(2,[0,1],[15.0,9.0])|(2,[0,1],[0.05826...|\n",
      "| boxy tee will em...|     1|[, boxy, tee, wil...|[, boxy, tee, emp...|[ boxy, boxy tee,...| (2,[0,1],[4.0,3.0])|(2,[0,1],[0.01553...|\n",
      "| but also not sof...|     1|[, but, also, not...|[, also, soft., a...|[ but, but also, ...| (2,[0,1],[3.0,4.0])|(2,[0,1],[0.01165...|\n",
      "| but likewise you...|     1|[, but, likewise,...|[, likewise, unde...|[ but, but likewi...| (2,[0,1],[4.0,7.0])|(2,[0,1],[0.01553...|\n",
      "| but on my wish l...|     1|[, but, on, my, w...|[, wish, list, su...|[ but, but on, on...| (2,[0,1],[2.0,5.0])|(2,[0,1],[0.00776...|\n",
      "| but still love it.\"|     1|[, but, still, lo...|[, still, love, i...|[ but, but still,...| (2,[0,1],[2.0,2.0])|(2,[0,1],[0.00776...|\n",
      "| dress boots and ...|     1|[, dress, boots, ...|[, dress, boots, ...|[ dress, dress bo...|(2,[0,1],[19.0,14...|(2,[0,1],[0.07379...|\n",
      "| i'd need to tuck...|     0|[, i'd, need, to,...|[, need, tuck, fr...|[ i'd, i'd need, ...|(2,[0,1],[12.0,11...|(2,[0,1],[0.04660...|\n",
      "| if you're lucky ...|     1|[, if, you're, lu...|[, lucky, retaile...|[ if, if you're, ...| (2,[0,1],[4.0,4.0])|(2,[0,1],[0.01553...|\n",
      "| it probably woul...|     0|[, it, probably, ...|[, probably, warm...|[ it, it probably...| (2,[0,1],[8.0,4.0])|(2,[0,1],[0.03107...|\n",
      "| it's not sheer s...|     1|[, it's, not, she...|[, sheer, cami, n...|[ it's, it's not,...| (2,[0,1],[3.0,5.0])|(2,[0,1],[0.01165...|\n",
      "| making my usual ...|     1|[, making, my, us...|[, making, usual,...|[ making, making ...| (2,[0,1],[5.0,6.0])|(2,[0,1],[0.01942...|\n",
      "| the medium pleat...|     1|[, the, medium, p...|[, medium, pleats...|[ the, the medium...| (2,[0,1],[2.0,9.0])|(2,[0,1],[0.00776...|\n",
      "| this dress in a ...|     1|[, this, dress, i...|[, dress, 10, mad...|[ this, this dres...| (2,[0,1],[8.0,8.0])|(2,[0,1],[0.03107...|\n",
      "|       while adding\"|     0|  [, while, adding\"]|         [, adding\"]|[ while, while ad...| (2,[0,1],[1.0,1.0])|(2,[0,1],[0.00388...|\n",
      "|\"A great staple t...|     1|[\"a, great, stapl...|[\"a, great, stapl...|[\"a great, great ...|(2,[0,1],[7.0,10.0])|(2,[0,1],[0.02718...|\n",
      "|\"Absolutely adora...|     1|[\"absolutely, ado...|[\"absolutely, ado...|[\"absolutely ador...|(2,[0,1],[51.0,43...|(2,[0,1],[0.19808...|\n",
      "|\"Absolutely love ...|     0|[\"absolutely, lov...|[\"absolutely, lov...|[\"absolutely love...|(2,[0,1],[39.0,42...|(2,[0,1],[0.15148...|\n",
      "+--------------------+------+--------------------+--------------------+--------------------+--------------------+--------------------+\n",
      "only showing top 20 rows\n",
      "\n"
     ]
    }
   ],
   "source": [
    "rescaledDat2.show()"
   ]
  },
  {
   "cell_type": "code",
   "execution_count": 69,
   "id": "7bc3f031-d78b-4c0e-892a-b1fb426c3cb3",
   "metadata": {},
   "outputs": [],
   "source": [
    "from pyspark.ml import Pipeline\n",
    "pipeline = Pipeline(stages=[tokenizer, ngram, hashingTF, idf, mlor])"
   ]
  },
  {
   "cell_type": "code",
   "execution_count": 70,
   "id": "8516c620",
   "metadata": {},
   "outputs": [],
   "source": [
    "pipeline1 = pipeline.fit(data)"
   ]
  },
  {
   "cell_type": "code",
   "execution_count": 71,
   "id": "2a959c6a",
   "metadata": {},
   "outputs": [],
   "source": [
    "prediction = pipeline1.transform(test)"
   ]
  },
  {
   "cell_type": "code",
   "execution_count": 74,
   "id": "e0babc91",
   "metadata": {},
   "outputs": [
    {
     "name": "stdout",
     "output_type": "stream",
     "text": [
      "+--------------------+------+--------------------+--------------------+--------------------+--------------------+--------------------+--------------------+----------+\n",
      "|              Review|Rating|             Review2|              nGrams|               words|            features|       rawPrediction|         probability|prediction|\n",
      "+--------------------+------+--------------------+--------------------+--------------------+--------------------+--------------------+--------------------+----------+\n",
      "|\"I found this ski...|     1|[\"i, found, this,...|[\"i found, found ...|(2,[0,1],[63.0,46...|(2,[0,1],[0.24386...|[-1.2106817022097...|[0.22958045382815...|       1.0|\n",
      "|\"I love any bow t...|     1|[\"i, love, any, b...|[\"i love, love an...|(2,[0,1],[37.0,36...|(2,[0,1],[0.14321...|[-1.2106817022097...|[0.22958045382815...|       1.0|\n",
      "|Fun outerwear for...|     1|[fun, outerwear, ...|[fun outerwear, o...|(2,[0,1],[14.0,15...|(2,[0,1],[0.05419...|[-1.2106817022097...|[0.22958045382815...|       1.0|\n",
      "|I bought the blue...|     1|[i, bought, the, ...|[i bought, bought...|(2,[0,1],[31.0,21...|(2,[0,1],[0.11999...|[-1.2106817022097...|[0.22958045382815...|       1.0|\n",
      "|I bought this in ...|     0|[i, bought, this,...|[i bought, bought...|(2,[0,1],[47.0,45...|(2,[0,1],[0.18192...|[-1.2106817022097...|[0.22958045382815...|       1.0|\n",
      "|I can't believe t...|     1|[i, can't, believ...|[i can't, can't b...|(2,[0,1],[27.0,34...|(2,[0,1],[0.10451...|[-1.2106817022097...|[0.22958045382815...|       1.0|\n",
      "|I can't figure ou...|     0|[i, can't, figure...|[i can't, can't f...|(2,[0,1],[28.0,21...|(2,[0,1],[0.10838...|[-1.2106817022097...|[0.22958045382815...|       1.0|\n",
      "|I love this top, ...|     1|[i, love, this, t...|[i love, love thi...|(2,[0,1],[42.0,54...|(2,[0,1],[0.16257...|[-1.2106817022097...|[0.22958045382815...|       1.0|\n",
      "|I think this jack...|     1|[i, think, this, ...|[i think, think t...|(2,[0,1],[13.0,16...|(2,[0,1],[0.05032...|[-1.2106817022097...|[0.22958045382815...|       1.0|\n",
      "|I tried this dres...|     0|[i, tried, this, ...|[i tried, tried t...|(2,[0,1],[11.0,12...|(2,[0,1],[0.04257...|[-1.2106817022097...|[0.22958045382815...|       1.0|\n",
      "|Im normally an xs...|     1|[im, normally, an...|[im normally, nor...|(2,[0,1],[12.0,8.0])|(2,[0,1],[0.04644...|[-1.2106817022097...|[0.22958045382815...|       1.0|\n",
      "|It's lightweight,...|     1|[it's, lightweigh...|[it's lightweight...|(2,[0,1],[47.0,50...|(2,[0,1],[0.18192...|[-1.2106817022097...|[0.22958045382815...|       1.0|\n",
      "|Like another revi...|     1|[like, another, r...|[like another, an...|(2,[0,1],[54.0,42...|(2,[0,1],[0.20902...|[-1.2106817022097...|[0.22958045382815...|       1.0|\n",
      "|Like the crossove...|     1|[like, the, cross...|[like the, the cr...|(2,[0,1],[30.0,15...|(2,[0,1],[0.11612...|[-1.2106817022097...|[0.22958045382815...|       1.0|\n",
      "|Love this chemise...|     1|[love, this, chem...|[love this, this ...|(2,[0,1],[35.0,21...|(2,[0,1],[0.13547...|[-1.2106817022097...|[0.22958045382815...|       1.0|\n",
      "|Make sure to get ...|     1|[make, sure, to, ...|[make sure, sure ...|(2,[0,1],[12.0,6.0])|(2,[0,1],[0.04644...|[-1.2106817022097...|[0.22958045382815...|       1.0|\n",
      "|My favorite color...|     0|[my, favorite, co...|[my favorite, fav...|(2,[0,1],[48.0,46...|(2,[0,1],[0.18579...|[-1.2106817022097...|[0.22958045382815...|       1.0|\n",
      "|On a positive not...|     0|[on, a, positive,...|[on a, a positive...|(2,[0,1],[31.0,37...|(2,[0,1],[0.11999...|[-1.2106817022097...|[0.22958045382815...|       1.0|\n",
      "|Personally i love...|     1|[personally, i, l...|[personally i, i ...|(2,[0,1],[38.0,32...|(2,[0,1],[0.14709...|[-1.2106817022097...|[0.22958045382815...|       1.0|\n",
      "|Super cozy! now t...|     1|[super, cozy!, no...|[super cozy!, coz...|(2,[0,1],[8.0,11.0])|(2,[0,1],[0.03096...|[-1.2106817022097...|[0.22958045382815...|       1.0|\n",
      "+--------------------+------+--------------------+--------------------+--------------------+--------------------+--------------------+--------------------+----------+\n",
      "only showing top 20 rows\n",
      "\n"
     ]
    }
   ],
   "source": [
    "prediction.show()"
   ]
  },
  {
   "cell_type": "code",
   "execution_count": 90,
   "id": "4e6e581d",
   "metadata": {},
   "outputs": [],
   "source": [
    "from pyspark.ml.tuning import CrossValidator, ParamGridBuilder\n",
    "paramGrid = ParamGridBuilder() \\\n",
    "    .addGrid(hashingTF.numFeatures, [2, 2, 2]) \\\n",
    "    .addGrid(mlor.regParam, [0.1, 0.01]) \\\n",
    "    .build()"
   ]
  },
  {
   "cell_type": "code",
   "execution_count": 91,
   "id": "dbc13c5e",
   "metadata": {},
   "outputs": [],
   "source": [
    "crossval = CrossValidator(estimator=pipeline,\n",
    "                          estimatorParamMaps=paramGrid,\n",
    "                          evaluator=evaluator2,\n",
    "                          numFolds=2)"
   ]
  },
  {
   "cell_type": "code",
   "execution_count": 92,
   "id": "e9113624",
   "metadata": {},
   "outputs": [
    {
     "ename": "KeyboardInterrupt",
     "evalue": "",
     "output_type": "error",
     "traceback": [
      "\u001b[0;31m---------------------------------------------------------------------------\u001b[0m",
      "\u001b[0;31mIndexError\u001b[0m                                Traceback (most recent call last)",
      "\u001b[0;32m/opt/conda/lib/python3.8/multiprocessing/pool.py\u001b[0m in \u001b[0;36mnext\u001b[0;34m(self, timeout)\u001b[0m\n\u001b[1;32m    850\u001b[0m             \u001b[0;32mtry\u001b[0m\u001b[0;34m:\u001b[0m\u001b[0;34m\u001b[0m\u001b[0;34m\u001b[0m\u001b[0m\n\u001b[0;32m--> 851\u001b[0;31m                 \u001b[0mitem\u001b[0m \u001b[0;34m=\u001b[0m \u001b[0mself\u001b[0m\u001b[0;34m.\u001b[0m\u001b[0m_items\u001b[0m\u001b[0;34m.\u001b[0m\u001b[0mpopleft\u001b[0m\u001b[0;34m(\u001b[0m\u001b[0;34m)\u001b[0m\u001b[0;34m\u001b[0m\u001b[0;34m\u001b[0m\u001b[0m\n\u001b[0m\u001b[1;32m    852\u001b[0m             \u001b[0;32mexcept\u001b[0m \u001b[0mIndexError\u001b[0m\u001b[0;34m:\u001b[0m\u001b[0;34m\u001b[0m\u001b[0;34m\u001b[0m\u001b[0m\n",
      "\u001b[0;31mIndexError\u001b[0m: pop from an empty deque",
      "\nDuring handling of the above exception, another exception occurred:\n",
      "\u001b[0;31mKeyboardInterrupt\u001b[0m                         Traceback (most recent call last)",
      "\u001b[0;32m<ipython-input-92-1c9e6ac7bfec>\u001b[0m in \u001b[0;36m<module>\u001b[0;34m\u001b[0m\n\u001b[0;32m----> 1\u001b[0;31m \u001b[0mcvModel\u001b[0m \u001b[0;34m=\u001b[0m \u001b[0mcrossval\u001b[0m\u001b[0;34m.\u001b[0m\u001b[0mfit\u001b[0m\u001b[0;34m(\u001b[0m\u001b[0mtraining\u001b[0m\u001b[0;34m)\u001b[0m\u001b[0;34m\u001b[0m\u001b[0;34m\u001b[0m\u001b[0m\n\u001b[0m",
      "\u001b[0;32m/usr/local/spark/python/pyspark/ml/base.py\u001b[0m in \u001b[0;36mfit\u001b[0;34m(self, dataset, params)\u001b[0m\n\u001b[1;32m    159\u001b[0m                 \u001b[0;32mreturn\u001b[0m \u001b[0mself\u001b[0m\u001b[0;34m.\u001b[0m\u001b[0mcopy\u001b[0m\u001b[0;34m(\u001b[0m\u001b[0mparams\u001b[0m\u001b[0;34m)\u001b[0m\u001b[0;34m.\u001b[0m\u001b[0m_fit\u001b[0m\u001b[0;34m(\u001b[0m\u001b[0mdataset\u001b[0m\u001b[0;34m)\u001b[0m\u001b[0;34m\u001b[0m\u001b[0;34m\u001b[0m\u001b[0m\n\u001b[1;32m    160\u001b[0m             \u001b[0;32melse\u001b[0m\u001b[0;34m:\u001b[0m\u001b[0;34m\u001b[0m\u001b[0;34m\u001b[0m\u001b[0m\n\u001b[0;32m--> 161\u001b[0;31m                 \u001b[0;32mreturn\u001b[0m \u001b[0mself\u001b[0m\u001b[0;34m.\u001b[0m\u001b[0m_fit\u001b[0m\u001b[0;34m(\u001b[0m\u001b[0mdataset\u001b[0m\u001b[0;34m)\u001b[0m\u001b[0;34m\u001b[0m\u001b[0;34m\u001b[0m\u001b[0m\n\u001b[0m\u001b[1;32m    162\u001b[0m         \u001b[0;32melse\u001b[0m\u001b[0;34m:\u001b[0m\u001b[0;34m\u001b[0m\u001b[0;34m\u001b[0m\u001b[0m\n\u001b[1;32m    163\u001b[0m             raise ValueError(\"Params must be either a param map or a list/tuple of param maps, \"\n",
      "\u001b[0;32m/usr/local/spark/python/pyspark/ml/tuning.py\u001b[0m in \u001b[0;36m_fit\u001b[0;34m(self, dataset)\u001b[0m\n\u001b[1;32m    685\u001b[0m \u001b[0;34m\u001b[0m\u001b[0m\n\u001b[1;32m    686\u001b[0m             \u001b[0mtasks\u001b[0m \u001b[0;34m=\u001b[0m \u001b[0m_parallelFitTasks\u001b[0m\u001b[0;34m(\u001b[0m\u001b[0mest\u001b[0m\u001b[0;34m,\u001b[0m \u001b[0mtrain\u001b[0m\u001b[0;34m,\u001b[0m \u001b[0meva\u001b[0m\u001b[0;34m,\u001b[0m \u001b[0mvalidation\u001b[0m\u001b[0;34m,\u001b[0m \u001b[0mepm\u001b[0m\u001b[0;34m,\u001b[0m \u001b[0mcollectSubModelsParam\u001b[0m\u001b[0;34m)\u001b[0m\u001b[0;34m\u001b[0m\u001b[0;34m\u001b[0m\u001b[0m\n\u001b[0;32m--> 687\u001b[0;31m             \u001b[0;32mfor\u001b[0m \u001b[0mj\u001b[0m\u001b[0;34m,\u001b[0m \u001b[0mmetric\u001b[0m\u001b[0;34m,\u001b[0m \u001b[0msubModel\u001b[0m \u001b[0;32min\u001b[0m \u001b[0mpool\u001b[0m\u001b[0;34m.\u001b[0m\u001b[0mimap_unordered\u001b[0m\u001b[0;34m(\u001b[0m\u001b[0;32mlambda\u001b[0m \u001b[0mf\u001b[0m\u001b[0;34m:\u001b[0m \u001b[0mf\u001b[0m\u001b[0;34m(\u001b[0m\u001b[0;34m)\u001b[0m\u001b[0;34m,\u001b[0m \u001b[0mtasks\u001b[0m\u001b[0;34m)\u001b[0m\u001b[0;34m:\u001b[0m\u001b[0;34m\u001b[0m\u001b[0;34m\u001b[0m\u001b[0m\n\u001b[0m\u001b[1;32m    688\u001b[0m                 \u001b[0mmetrics\u001b[0m\u001b[0;34m[\u001b[0m\u001b[0mj\u001b[0m\u001b[0;34m]\u001b[0m \u001b[0;34m+=\u001b[0m \u001b[0;34m(\u001b[0m\u001b[0mmetric\u001b[0m \u001b[0;34m/\u001b[0m \u001b[0mnFolds\u001b[0m\u001b[0;34m)\u001b[0m\u001b[0;34m\u001b[0m\u001b[0;34m\u001b[0m\u001b[0m\n\u001b[1;32m    689\u001b[0m                 \u001b[0;32mif\u001b[0m \u001b[0mcollectSubModelsParam\u001b[0m\u001b[0;34m:\u001b[0m\u001b[0;34m\u001b[0m\u001b[0;34m\u001b[0m\u001b[0m\n",
      "\u001b[0;32m/opt/conda/lib/python3.8/multiprocessing/pool.py\u001b[0m in \u001b[0;36mnext\u001b[0;34m(self, timeout)\u001b[0m\n\u001b[1;32m    854\u001b[0m                     \u001b[0mself\u001b[0m\u001b[0;34m.\u001b[0m\u001b[0m_pool\u001b[0m \u001b[0;34m=\u001b[0m \u001b[0;32mNone\u001b[0m\u001b[0;34m\u001b[0m\u001b[0;34m\u001b[0m\u001b[0m\n\u001b[1;32m    855\u001b[0m                     \u001b[0;32mraise\u001b[0m \u001b[0mStopIteration\u001b[0m \u001b[0;32mfrom\u001b[0m \u001b[0;32mNone\u001b[0m\u001b[0;34m\u001b[0m\u001b[0;34m\u001b[0m\u001b[0m\n\u001b[0;32m--> 856\u001b[0;31m                 \u001b[0mself\u001b[0m\u001b[0;34m.\u001b[0m\u001b[0m_cond\u001b[0m\u001b[0;34m.\u001b[0m\u001b[0mwait\u001b[0m\u001b[0;34m(\u001b[0m\u001b[0mtimeout\u001b[0m\u001b[0;34m)\u001b[0m\u001b[0;34m\u001b[0m\u001b[0;34m\u001b[0m\u001b[0m\n\u001b[0m\u001b[1;32m    857\u001b[0m                 \u001b[0;32mtry\u001b[0m\u001b[0;34m:\u001b[0m\u001b[0;34m\u001b[0m\u001b[0;34m\u001b[0m\u001b[0m\n\u001b[1;32m    858\u001b[0m                     \u001b[0mitem\u001b[0m \u001b[0;34m=\u001b[0m \u001b[0mself\u001b[0m\u001b[0;34m.\u001b[0m\u001b[0m_items\u001b[0m\u001b[0;34m.\u001b[0m\u001b[0mpopleft\u001b[0m\u001b[0;34m(\u001b[0m\u001b[0;34m)\u001b[0m\u001b[0;34m\u001b[0m\u001b[0;34m\u001b[0m\u001b[0m\n",
      "\u001b[0;32m/opt/conda/lib/python3.8/threading.py\u001b[0m in \u001b[0;36mwait\u001b[0;34m(self, timeout)\u001b[0m\n\u001b[1;32m    300\u001b[0m         \u001b[0;32mtry\u001b[0m\u001b[0;34m:\u001b[0m    \u001b[0;31m# restore state no matter what (e.g., KeyboardInterrupt)\u001b[0m\u001b[0;34m\u001b[0m\u001b[0;34m\u001b[0m\u001b[0m\n\u001b[1;32m    301\u001b[0m             \u001b[0;32mif\u001b[0m \u001b[0mtimeout\u001b[0m \u001b[0;32mis\u001b[0m \u001b[0;32mNone\u001b[0m\u001b[0;34m:\u001b[0m\u001b[0;34m\u001b[0m\u001b[0;34m\u001b[0m\u001b[0m\n\u001b[0;32m--> 302\u001b[0;31m                 \u001b[0mwaiter\u001b[0m\u001b[0;34m.\u001b[0m\u001b[0macquire\u001b[0m\u001b[0;34m(\u001b[0m\u001b[0;34m)\u001b[0m\u001b[0;34m\u001b[0m\u001b[0;34m\u001b[0m\u001b[0m\n\u001b[0m\u001b[1;32m    303\u001b[0m                 \u001b[0mgotit\u001b[0m \u001b[0;34m=\u001b[0m \u001b[0;32mTrue\u001b[0m\u001b[0;34m\u001b[0m\u001b[0;34m\u001b[0m\u001b[0m\n\u001b[1;32m    304\u001b[0m             \u001b[0;32melse\u001b[0m\u001b[0;34m:\u001b[0m\u001b[0;34m\u001b[0m\u001b[0;34m\u001b[0m\u001b[0m\n",
      "\u001b[0;31mKeyboardInterrupt\u001b[0m: "
     ]
    }
   ],
   "source": [
    "cvModel = crossval.fit(training)"
   ]
  },
  {
   "cell_type": "code",
   "execution_count": null,
   "id": "97a7d657",
   "metadata": {},
   "outputs": [],
   "source": []
  }
 ],
 "metadata": {
  "kernelspec": {
   "display_name": "Python 3 (ipykernel)",
   "language": "python",
   "name": "python3"
  },
  "language_info": {
   "codemirror_mode": {
    "name": "ipython",
    "version": 3
   },
   "file_extension": ".py",
   "mimetype": "text/x-python",
   "name": "python",
   "nbconvert_exporter": "python",
   "pygments_lexer": "ipython3",
   "version": "3.9.7"
  }
 },
 "nbformat": 4,
 "nbformat_minor": 5
}
