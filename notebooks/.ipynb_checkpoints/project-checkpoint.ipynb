{
 "cells": [
  {
   "cell_type": "code",
   "execution_count": 2,
   "id": "f25bc38f-b97e-42be-ba90-1a1dd5693f07",
   "metadata": {},
   "outputs": [
    {
     "name": "stderr",
     "output_type": "stream",
     "text": [
      "WARNING: An illegal reflective access operation has occurred\n",
      "WARNING: Illegal reflective access by org.apache.spark.unsafe.Platform (file:/usr/local/spark-3.2.0-bin-hadoop3.2/jars/spark-unsafe_2.12-3.2.0.jar) to constructor java.nio.DirectByteBuffer(long,int)\n",
      "WARNING: Please consider reporting this to the maintainers of org.apache.spark.unsafe.Platform\n",
      "WARNING: Use --illegal-access=warn to enable warnings of further illegal reflective access operations\n",
      "WARNING: All illegal access operations will be denied in a future release\n",
      "Setting default log level to \"WARN\".\n",
      "To adjust logging level use sc.setLogLevel(newLevel). For SparkR, use setLogLevel(newLevel).\n"
     ]
    }
   ],
   "source": [
    "from pyspark.sql import SparkSession\n",
    "spark = SparkSession.builder \\\n",
    "    .master('local[*]') \\\n",
    "    .config(\"spark.driver.memory\", \"5g\") \\\n",
    "    .appName('app') \\\n",
    "    .getOrCreate()"
   ]
  },
  {
   "cell_type": "markdown",
   "id": "e94ebe73-8996-4f62-8419-11ce35e25390",
   "metadata": {},
   "source": [
    "### On installe nltk pour les stop words"
   ]
  },
  {
   "cell_type": "code",
   "execution_count": 2,
   "id": "4348c0d7-a502-464a-b8ee-de393e81ed56",
   "metadata": {},
   "outputs": [
    {
     "name": "stdout",
     "output_type": "stream",
     "text": [
      "Requirement already satisfied: nltk in /opt/conda/lib/python3.9/site-packages (3.7)\n",
      "Requirement already satisfied: joblib in /opt/conda/lib/python3.9/site-packages (from nltk) (1.1.0)\n",
      "Requirement already satisfied: click in /opt/conda/lib/python3.9/site-packages (from nltk) (8.0.3)\n",
      "Requirement already satisfied: regex>=2021.8.3 in /opt/conda/lib/python3.9/site-packages (from nltk) (2022.3.15)\n",
      "Requirement already satisfied: tqdm in /opt/conda/lib/python3.9/site-packages (from nltk) (4.62.3)\n"
     ]
    }
   ],
   "source": [
    "!pip install nltk"
   ]
  },
  {
   "cell_type": "markdown",
   "id": "51b54fc4-a191-45cb-88e3-76a992fd8649",
   "metadata": {},
   "source": [
    "### On importe les bibliotheques que l'on va utiliser"
   ]
  },
  {
   "cell_type": "code",
   "execution_count": 3,
   "id": "91cd6982-a658-4634-9c3d-69874ab010eb",
   "metadata": {},
   "outputs": [],
   "source": [
    "from pyspark.sql.functions import *\n",
    "from pyspark.sql.types import *\n",
    "from pyspark.ml.feature import *\n",
    "\n",
    "from pyspark.ml.classification import *\n",
    "from pyspark.ml import Pipeline\n",
    "from pyspark.ml.tuning import *\n",
    "from pyspark.ml.feature import  StringIndexer\n"
   ]
  },
  {
   "cell_type": "code",
   "execution_count": 4,
   "id": "043c98a6-4dd7-4efe-9a57-c1fbadb30948",
   "metadata": {},
   "outputs": [],
   "source": [
    "from pyspark.ml.evaluation import *"
   ]
  },
  {
   "cell_type": "code",
   "execution_count": 5,
   "id": "6e9022f8-d201-4fbb-bfea-9ea44cf30212",
   "metadata": {},
   "outputs": [],
   "source": [
    "import nltk.corpus \n",
    "from nltk.corpus import stopwords"
   ]
  },
  {
   "cell_type": "code",
   "execution_count": 6,
   "id": "85aeb781-1d82-4987-887a-6843c5aa9cb1",
   "metadata": {},
   "outputs": [
    {
     "name": "stderr",
     "output_type": "stream",
     "text": [
      "[nltk_data] Downloading package stopwords to /home/jovyan/nltk_data...\n",
      "[nltk_data]   Package stopwords is already up-to-date!\n"
     ]
    },
    {
     "data": {
      "text/plain": [
       "True"
      ]
     },
     "execution_count": 6,
     "metadata": {},
     "output_type": "execute_result"
    }
   ],
   "source": [
    "nltk.download('stopwords')"
   ]
  },
  {
   "cell_type": "code",
   "execution_count": 7,
   "id": "2aae29c9-a047-479d-81da-1c62e5fe6502",
   "metadata": {},
   "outputs": [],
   "source": [
    "import string"
   ]
  },
  {
   "cell_type": "markdown",
   "id": "beb360a3-c53c-43c5-98af-b9f9348aaf9f",
   "metadata": {},
   "source": [
    "### On convertit le csv en spark df"
   ]
  },
  {
   "cell_type": "code",
   "execution_count": 8,
   "id": "3275cd34-9f45-4283-98ec-bf5afb522d61",
   "metadata": {},
   "outputs": [],
   "source": [
    "path = \"DBPEDIA_train.csv\"\n",
    "df_train = spark.read.format('csv').options(header=True,delimiter=',').load(path)\n"
   ]
  },
  {
   "cell_type": "code",
   "execution_count": 9,
   "id": "1b3b3388-d277-4a33-9bfe-e3b44af8144b",
   "metadata": {},
   "outputs": [
    {
     "data": {
      "text/plain": [
       "StructType(List(StructField(text,StringType,true),StructField(l1,StringType,true),StructField(l2,StringType,true),StructField(l3,StringType,true)))"
      ]
     },
     "execution_count": 9,
     "metadata": {},
     "output_type": "execute_result"
    }
   ],
   "source": [
    "df_train.schema"
   ]
  },
  {
   "cell_type": "markdown",
   "id": "e75980f6-5958-4db0-b52e-c7149d8a0a64",
   "metadata": {},
   "source": [
    "### On observe nos données"
   ]
  },
  {
   "cell_type": "code",
   "execution_count": 10,
   "id": "2dfd4b2e-6bd9-4067-8f46-81f843db801a",
   "metadata": {},
   "outputs": [
    {
     "name": "stderr",
     "output_type": "stream",
     "text": [
      "                                                                                \r"
     ]
    },
    {
     "data": {
      "text/plain": [
       "240942"
      ]
     },
     "execution_count": 10,
     "metadata": {},
     "output_type": "execute_result"
    }
   ],
   "source": [
    "df_train.count()"
   ]
  },
  {
   "cell_type": "markdown",
   "id": "8e30af12-2298-46b4-8855-8a18dd9e91b2",
   "metadata": {},
   "source": [
    "## On remarque que nos données contiennent des lignes qui n'ont pas de labels donc il faut les degager"
   ]
  },
  {
   "cell_type": "code",
   "execution_count": 9,
   "id": "9caa5c0b-dc2b-4c78-8869-34144d981104",
   "metadata": {},
   "outputs": [],
   "source": [
    "df_train=df_train.dropna()\n",
    "df_train=df_train.filter((df_train.l1 == \"Agent\") | (df_train.l1=='Event') | (df_train.l1=='Species') | (df_train.l1=='Place')| (df_train.l1=='UnitOfWork')| (df_train.l1=='SportsSeason')| (df_train.l1=='TopicalConcept'))"
   ]
  },
  {
   "cell_type": "code",
   "execution_count": 16,
   "id": "ea213c14-b4ed-4df7-8c51-131a26ace728",
   "metadata": {},
   "outputs": [
    {
     "name": "stderr",
     "output_type": "stream",
     "text": [
      "[Stage 5:>                                                          (0 + 8) / 8]\r"
     ]
    },
    {
     "name": "stdout",
     "output_type": "stream",
     "text": [
      "+--------------+\n",
      "|            l1|\n",
      "+--------------+\n",
      "|       Species|\n",
      "|  SportsSeason|\n",
      "|         Place|\n",
      "|    UnitOfWork|\n",
      "|         Event|\n",
      "|TopicalConcept|\n",
      "|         Agent|\n",
      "+--------------+\n",
      "\n"
     ]
    },
    {
     "name": "stderr",
     "output_type": "stream",
     "text": [
      "                                                                                \r"
     ]
    }
   ],
   "source": [
    "df_train.select('l1').distinct().show()"
   ]
  },
  {
   "cell_type": "code",
   "execution_count": 15,
   "id": "800fa002-43dd-40eb-b93a-fc4d09c67220",
   "metadata": {},
   "outputs": [
    {
     "name": "stderr",
     "output_type": "stream",
     "text": [
      "                                                                                \r"
     ]
    },
    {
     "data": {
      "text/plain": [
       "192235"
      ]
     },
     "execution_count": 15,
     "metadata": {},
     "output_type": "execute_result"
    }
   ],
   "source": [
    "df_train.select('l1').count()"
   ]
  },
  {
   "cell_type": "markdown",
   "id": "b4342b20-30eb-41b9-92b8-6402b7a9a515",
   "metadata": {},
   "source": [
    " On a finalement 7 labels et on a perdu environ 60k lignes sur 260k"
   ]
  },
  {
   "cell_type": "code",
   "execution_count": 10,
   "id": "9a7b42b4-d492-4059-9cce-a3663ed988a6",
   "metadata": {},
   "outputs": [],
   "source": [
    "add_stopwords= stopwords.words('english')"
   ]
  },
  {
   "cell_type": "markdown",
   "id": "163a3d00-c3af-4278-a24b-07960b986e14",
   "metadata": {},
   "source": [
    "##### On definit la liste des stop words que l'on veut enlever"
   ]
  },
  {
   "cell_type": "code",
   "execution_count": 11,
   "id": "4ce42f66-919c-4208-8d28-5de772c7bce4",
   "metadata": {},
   "outputs": [],
   "source": [
    "l = [\"http\",\"https\",\"amp\",\"rt\",\"t\",\"c\",\"the\"]\n",
    "for i in l:\n",
    "    add_stopwords.append(i)"
   ]
  },
  {
   "cell_type": "code",
   "execution_count": 12,
   "id": "f05ac738-53d7-4168-a492-c5dd1afdcf72",
   "metadata": {},
   "outputs": [],
   "source": [
    "s=list(string.punctuation)"
   ]
  },
  {
   "cell_type": "code",
   "execution_count": 13,
   "id": "36636ddc-009f-456a-9d74-f6fe9b533246",
   "metadata": {},
   "outputs": [],
   "source": [
    "for i in s:\n",
    "    add_stopwords.append(i)"
   ]
  },
  {
   "cell_type": "code",
   "execution_count": 14,
   "id": "168f846b-434d-40dc-90e8-64684cb13f3a",
   "metadata": {},
   "outputs": [
    {
     "name": "stdout",
     "output_type": "stream",
     "text": [
      "let s go\n"
     ]
    }
   ],
   "source": [
    "print('let s go')"
   ]
  },
  {
   "cell_type": "markdown",
   "id": "81f7557c-a9e2-4224-913e-78fee5dc4139",
   "metadata": {},
   "source": [
    "## Pre-processing"
   ]
  },
  {
   "cell_type": "markdown",
   "id": "dfd9eb27-8009-4cc7-a6f3-5756146f2e3c",
   "metadata": {},
   "source": [
    "Pour cette etape on a voulu tester plusieurs types de pre-pro"
   ]
  },
  {
   "cell_type": "code",
   "execution_count": 15,
   "id": "408a7cfa-87e9-4666-8776-d9609383621e",
   "metadata": {},
   "outputs": [],
   "source": [
    "def apply_pipeline(pipeline,df):\n",
    "    pipelineFit=pipeline.fit(df)\n",
    "    return pipelineFit"
   ]
  },
  {
   "cell_type": "markdown",
   "id": "88cc6747-5926-499e-a265-66674784b7f6",
   "metadata": {},
   "source": [
    "###### Count vectorizer"
   ]
  },
  {
   "cell_type": "code",
   "execution_count": 16,
   "id": "94dd8706-ee01-4cd2-a91f-f33832eac86c",
   "metadata": {},
   "outputs": [],
   "source": [
    "from pyspark.ml.feature import RegexTokenizer, StopWordsRemover, CountVectorizer\n",
    "from pyspark.ml.classification import LogisticRegression\n",
    "# regular expression tokenizer\n",
    "regexTokenizer = RegexTokenizer(inputCol=\"text\", outputCol=\"words\", pattern=\"\\\\W\")\n",
    "# stop words\n",
    "stopwordsRemover = StopWordsRemover(inputCol=\"words\", outputCol=\"filtered\").setStopWords(add_stopwords)\n",
    "# bag of words count\n",
    "countVectors = CountVectorizer(inputCol=\"filtered\", outputCol=\"features\", vocabSize=10000, minDF=5)\n",
    "\n",
    "label_stringIdx = StringIndexer(inputCol = \"l1\", outputCol = \"label\")\n",
    "pipeline = Pipeline(stages=[regexTokenizer, stopwordsRemover, countVectors,label_stringIdx])"
   ]
  },
  {
   "cell_type": "code",
   "execution_count": 17,
   "id": "634315ee-5d9c-4363-8333-6a41c0dc0de5",
   "metadata": {},
   "outputs": [
    {
     "data": {
      "text/plain": [
       "pyspark.ml.pipeline.Pipeline"
      ]
     },
     "execution_count": 17,
     "metadata": {},
     "output_type": "execute_result"
    }
   ],
   "source": [
    "type(pipeline)"
   ]
  },
  {
   "cell_type": "code",
   "execution_count": null,
   "id": "a31ca9a8-1368-4e6b-834d-f9e8aea4d549",
   "metadata": {},
   "outputs": [],
   "source": []
  },
  {
   "cell_type": "code",
   "execution_count": 18,
   "id": "33fccb3b-ca08-47c7-b26b-f6f41e75b017",
   "metadata": {},
   "outputs": [
    {
     "name": "stderr",
     "output_type": "stream",
     "text": [
      "                                                                                \r"
     ]
    }
   ],
   "source": [
    "dataset_l1_p1=apply_pipeline(pipeline,df_train)"
   ]
  },
  {
   "cell_type": "code",
   "execution_count": 19,
   "id": "2291079f-b321-4589-ac3f-4ef42173d7a6",
   "metadata": {},
   "outputs": [],
   "source": [
    "data = dataset_l1_p1.transform(df_train)"
   ]
  },
  {
   "cell_type": "code",
   "execution_count": 34,
   "id": "799c12d6-8d53-4bad-9714-a955ee0593e0",
   "metadata": {},
   "outputs": [
    {
     "name": "stderr",
     "output_type": "stream",
     "text": [
      "                                                                                \r"
     ]
    }
   ],
   "source": [
    "dataset_l1_p1.write().overwrite().save(\"model_pipe1\")"
   ]
  },
  {
   "cell_type": "code",
   "execution_count": 36,
   "id": "8cfd6d30-a234-4db4-8ae2-53ebc29b1c4b",
   "metadata": {},
   "outputs": [],
   "source": [
    "from pyspark.ml import PipelineModel\n",
    "\n",
    "pipelineModel = PipelineModel.load(\"model_pipe1\")"
   ]
  },
  {
   "cell_type": "code",
   "execution_count": 24,
   "id": "378839cd-d0fc-4b84-902e-bc457f9ece66",
   "metadata": {},
   "outputs": [
    {
     "data": {
      "text/plain": [
       "PipelineModel_357f79c24a52"
      ]
     },
     "execution_count": 24,
     "metadata": {},
     "output_type": "execute_result"
    }
   ],
   "source": [
    "dataset_l1_p1"
   ]
  },
  {
   "cell_type": "code",
   "execution_count": 21,
   "id": "c44720f2-1aa4-4949-b3fb-03ddf47a3c22",
   "metadata": {},
   "outputs": [
    {
     "name": "stderr",
     "output_type": "stream",
     "text": [
      "                                                                                \r"
     ]
    }
   ],
   "source": [
    "dataset_l2_p1=apply_pipeline(2,pipeline,df_train)"
   ]
  },
  {
   "cell_type": "code",
   "execution_count": 22,
   "id": "7caf11eb-1b0e-44ed-8796-1eb7a899abad",
   "metadata": {},
   "outputs": [
    {
     "name": "stderr",
     "output_type": "stream",
     "text": [
      "                                                                                \r"
     ]
    }
   ],
   "source": [
    "dataset_l3_p1=apply_pipeline(3,pipeline,df_train)"
   ]
  },
  {
   "cell_type": "code",
   "execution_count": 22,
   "id": "124e5762-e62e-499d-85be-2b57ceb8678c",
   "metadata": {},
   "outputs": [
    {
     "name": "stdout",
     "output_type": "stream",
     "text": [
      "good\n"
     ]
    }
   ],
   "source": [
    "print('good')\n"
   ]
  },
  {
   "cell_type": "markdown",
   "id": "fe4105e3-3973-4441-b449-bddd457efe2c",
   "metadata": {},
   "source": [
    "Nos données sont pretes à etre utilisés dans des modeles de Ml"
   ]
  },
  {
   "cell_type": "markdown",
   "id": "02641f40-fbc3-49e5-bc8b-a09d903a5eb9",
   "metadata": {},
   "source": [
    "###### TF/IDF"
   ]
  },
  {
   "cell_type": "code",
   "execution_count": 20,
   "id": "e8a291a9-2d50-49db-ade9-b272910b93ab",
   "metadata": {},
   "outputs": [],
   "source": [
    "ngram=NGram(inputCol=stopwordsRemover.getOutputCol(),outputCol=\"Ngrams\")"
   ]
  },
  {
   "cell_type": "code",
   "execution_count": 21,
   "id": "cfdc763b-05a0-4d9d-a602-b9cbd09741c5",
   "metadata": {},
   "outputs": [],
   "source": [
    "hashingTF=HashingTF(inputCol=ngram.getOutputCol(),outputCol=\"features\")"
   ]
  },
  {
   "cell_type": "code",
   "execution_count": 22,
   "id": "bd9e47a3-89c4-4d0d-9112-a67cf71b1ddf",
   "metadata": {},
   "outputs": [],
   "source": [
    "idf=IDF(minDocFreq=3,inputCol=hashingTF.getOutputCol(),outputCol=\"final\")"
   ]
  },
  {
   "cell_type": "code",
   "execution_count": 23,
   "id": "936d28a4-48b0-4cb2-b7fa-21636ea2d4bc",
   "metadata": {},
   "outputs": [],
   "source": [
    "pipeline_prepro=Pipeline(stages=[regexTokenizer,stopwordsRemover,ngram,hashingTF,idf])"
   ]
  },
  {
   "cell_type": "code",
   "execution_count": 24,
   "id": "c930eb96-d562-4561-9039-792d0268b06d",
   "metadata": {},
   "outputs": [
    {
     "name": "stderr",
     "output_type": "stream",
     "text": [
      "                                                                                \r"
     ]
    }
   ],
   "source": [
    "dataset_l1_p2=apply_pipeline(pipeline_prepro,df_train)"
   ]
  },
  {
   "cell_type": "code",
   "execution_count": 38,
   "id": "765703ad-99b6-404e-b32f-b270d16163f3",
   "metadata": {},
   "outputs": [
    {
     "name": "stderr",
     "output_type": "stream",
     "text": [
      "                                                                                \r"
     ]
    }
   ],
   "source": [
    "dataset_l1_p2.write().overwrite().save(\"model_pipe\")"
   ]
  },
  {
   "cell_type": "code",
   "execution_count": 39,
   "id": "b2252c5a-6e0d-4ce3-ab52-02616e22b396",
   "metadata": {},
   "outputs": [
    {
     "name": "stderr",
     "output_type": "stream",
     "text": [
      "                                                                                \r"
     ]
    }
   ],
   "source": [
    "from pyspark.ml import PipelineModel\n",
    "\n",
    "pipelineModel = PipelineModel.load(\"model_pipe\")"
   ]
  },
  {
   "cell_type": "code",
   "execution_count": null,
   "id": "8aa59ed1-6fbd-4f89-8538-7c321f766e92",
   "metadata": {},
   "outputs": [],
   "source": []
  },
  {
   "cell_type": "code",
   "execution_count": null,
   "id": "d9d080ac-cf8a-458e-84bb-5aece320d8be",
   "metadata": {},
   "outputs": [],
   "source": []
  },
  {
   "cell_type": "code",
   "execution_count": 29,
   "id": "65caeeed-59fc-4616-9ab2-3b43d7fd8c8a",
   "metadata": {},
   "outputs": [
    {
     "name": "stderr",
     "output_type": "stream",
     "text": [
      "                                                                                \r"
     ]
    }
   ],
   "source": [
    "dataset_l2_p2=apply_pipeline(2,pipeline_prepro,df_train)"
   ]
  },
  {
   "cell_type": "code",
   "execution_count": 62,
   "id": "1b826f3b-312e-4989-b610-a576171fa19b",
   "metadata": {},
   "outputs": [
    {
     "name": "stderr",
     "output_type": "stream",
     "text": [
      "                                                                                \r"
     ]
    }
   ],
   "source": [
    "dataset_l3_p2=apply_pipeline(3,pipeline_prepro,df_train)"
   ]
  },
  {
   "cell_type": "markdown",
   "id": "fe6716ed-bac2-4942-b09f-d4742e4079b1",
   "metadata": {},
   "source": [
    "Word2Vec prend trop de temps du coup on ne va pas le faire "
   ]
  },
  {
   "cell_type": "markdown",
   "id": "c1e41b01-952d-4cc2-aa9a-dac9e706be70",
   "metadata": {},
   "source": [
    "## Classification"
   ]
  },
  {
   "cell_type": "markdown",
   "id": "e48df404-a0bf-44b0-9c1c-bd71000622f4",
   "metadata": {},
   "source": [
    "##### definition de modele"
   ]
  },
  {
   "cell_type": "code",
   "execution_count": 25,
   "id": "d8395c8a-7cd3-45d5-ab1e-69ac24e0c4cb",
   "metadata": {},
   "outputs": [],
   "source": [
    "lr = LogisticRegression(maxIter=10, regParam=0.3,featuresCol='features',labelCol='label')"
   ]
  },
  {
   "cell_type": "markdown",
   "id": "b7ab93d7-81de-44c3-ab57-ef915a650a80",
   "metadata": {},
   "source": [
    "###### level 1"
   ]
  },
  {
   "cell_type": "code",
   "execution_count": 26,
   "id": "9665b7a8-c1e7-467d-a0b7-2691a74c2dd7",
   "metadata": {},
   "outputs": [],
   "source": [
    "def fit_model(model,dataset):\n",
    "    (trainingData, testData) = dataset.randomSplit([0.9, 0.1], seed = 100)\n",
    "    lrModel = lr.fit(trainingData)\n",
    "    return lrModel  "
   ]
  },
  {
   "cell_type": "code",
   "execution_count": 27,
   "id": "6da6d225-8506-4da2-b34a-44d200115fa3",
   "metadata": {},
   "outputs": [
    {
     "name": "stderr",
     "output_type": "stream",
     "text": [
      "                                                                                \r"
     ]
    }
   ],
   "source": [
    "fitl1_1=fit_model(lr,data)"
   ]
  },
  {
   "cell_type": "code",
   "execution_count": 42,
   "id": "c4e74799-0177-4cf5-8cf0-c63004764b64",
   "metadata": {},
   "outputs": [],
   "source": [
    "spark.stop()"
   ]
  },
  {
   "cell_type": "code",
   "execution_count": 36,
   "id": "2df1a824-25c1-450f-a01a-5a596aa16758",
   "metadata": {},
   "outputs": [
    {
     "data": {
      "text/plain": [
       "pyspark.ml.classification.LogisticRegressionModel"
      ]
     },
     "execution_count": 36,
     "metadata": {},
     "output_type": "execute_result"
    }
   ],
   "source": [
    "type(fitl1_1)"
   ]
  },
  {
   "cell_type": "code",
   "execution_count": 38,
   "id": "5f53a5f7-9f6e-4bc8-8457-14697b2f12c9",
   "metadata": {},
   "outputs": [],
   "source": [
    "from pyspark.ml.classification import LogisticRegressionModel\n"
   ]
  },
  {
   "cell_type": "code",
   "execution_count": 39,
   "id": "a4d4188e-ed36-4e87-a834-d205607c21b4",
   "metadata": {},
   "outputs": [
    {
     "name": "stderr",
     "output_type": "stream",
     "text": [
      "                                                                                \r"
     ]
    }
   ],
   "source": [
    "fitl1_1.write().overwrite().save(\"model_l1_p\")"
   ]
  },
  {
   "cell_type": "code",
   "execution_count": 40,
   "id": "ff9b46ad-ec1a-4fc4-a03e-4cc545bf1bdd",
   "metadata": {},
   "outputs": [],
   "source": [
    "path=(\"model_l1_p\")"
   ]
  },
  {
   "cell_type": "code",
   "execution_count": 41,
   "id": "4a9633bb-a7ab-4192-97b7-cc07fd09ca6b",
   "metadata": {},
   "outputs": [],
   "source": [
    "m=LogisticRegressionModel.load(path)"
   ]
  },
  {
   "cell_type": "code",
   "execution_count": 26,
   "id": "4caba995-51a3-4af6-8519-53e01c61cff6",
   "metadata": {},
   "outputs": [
    {
     "data": {
      "text/plain": [
       "pyspark.ml.classification.LogisticRegressionModel"
      ]
     },
     "execution_count": 26,
     "metadata": {},
     "output_type": "execute_result"
    }
   ],
   "source": [
    "type(m)"
   ]
  },
  {
   "cell_type": "code",
   "execution_count": 40,
   "id": "e13ad455-6ebd-4585-bdd4-1950e6b63651",
   "metadata": {},
   "outputs": [
    {
     "name": "stdout",
     "output_type": "stream",
     "text": [
      "consumer.ipynb\t   model_l1_p\tmodel_l1_p4  model_pipe1    test.py\n",
      "consum.ipynb\t   model_l1_p1\tmodel_l1_p6  project.ipynb  Untitled1.ipynb\n",
      "DBPEDIA_train.csv  model_l1_p2\tmodel_l1_p8  projet.ipynb   Untitled.ipynb\n",
      "DBPEDIA_val.csv    model_l1_p3\tmodel_pipe   sparkml.ipynb\n"
     ]
    }
   ],
   "source": [
    "!ls "
   ]
  },
  {
   "cell_type": "code",
   "execution_count": 51,
   "id": "b81c7592-100b-41bb-95e7-ae0088c804f7",
   "metadata": {},
   "outputs": [],
   "source": [
    "path=(\"model_l1_p2\")"
   ]
  },
  {
   "cell_type": "code",
   "execution_count": 52,
   "id": "1490e062-3f66-4b4f-b279-0227400befbe",
   "metadata": {},
   "outputs": [
    {
     "name": "stderr",
     "output_type": "stream",
     "text": [
      "                                                                                \r"
     ]
    }
   ],
   "source": [
    "m2=LogisticRegressionModel.load(path)"
   ]
  },
  {
   "cell_type": "code",
   "execution_count": 30,
   "id": "5d8cc27b-2165-4fc8-b6db-f6a18febf0e7",
   "metadata": {},
   "outputs": [
    {
     "data": {
      "text/plain": [
       "pyspark.ml.classification.LogisticRegressionModel"
      ]
     },
     "execution_count": 30,
     "metadata": {},
     "output_type": "execute_result"
    }
   ],
   "source": [
    "type(m2)"
   ]
  },
  {
   "cell_type": "code",
   "execution_count": 24,
   "id": "946b4278-032c-46c3-ac55-d9d6eb6ff745",
   "metadata": {},
   "outputs": [
    {
     "name": "stderr",
     "output_type": "stream",
     "text": [
      "                                                                                \r"
     ]
    }
   ],
   "source": [
    "fitl1_2=fit_model(lr,dataset_l1_p2)"
   ]
  },
  {
   "cell_type": "code",
   "execution_count": 28,
   "id": "549a8ccf-4e16-4db1-b2a3-8c90394e7cde",
   "metadata": {},
   "outputs": [
    {
     "name": "stderr",
     "output_type": "stream",
     "text": [
      "                                                                                \r"
     ]
    }
   ],
   "source": [
    "fitl1_2.write().overwrite().save(\"model_l1_p2\")"
   ]
  },
  {
   "cell_type": "markdown",
   "id": "275d884c-b973-467d-9bcb-570df51ffbed",
   "metadata": {},
   "source": [
    "##### level 2"
   ]
  },
  {
   "cell_type": "code",
   "execution_count": 69,
   "id": "3a04da6b-ad37-4530-b07b-251bd57fdfea",
   "metadata": {},
   "outputs": [
    {
     "name": "stderr",
     "output_type": "stream",
     "text": [
      "                                                                                \r"
     ]
    }
   ],
   "source": [
    "fitl2_1=fit_model(lr,dataset_l2_p1)"
   ]
  },
  {
   "cell_type": "code",
   "execution_count": 60,
   "id": "e071a657-b5ed-45c1-8b92-56ebe82caf27",
   "metadata": {},
   "outputs": [
    {
     "name": "stderr",
     "output_type": "stream",
     "text": [
      "----------------------------------------                            (0 + 2) / 2]\n",
      "Exception occurred during processing of request from ('127.0.0.1', 39148)\n",
      "Traceback (most recent call last):\n",
      "  File \"/opt/conda/lib/python3.9/socketserver.py\", line 316, in _handle_request_noblock\n",
      "    self.process_request(request, client_address)\n",
      "  File \"/opt/conda/lib/python3.9/socketserver.py\", line 347, in process_request\n",
      "    self.finish_request(request, client_address)\n",
      "  File \"/opt/conda/lib/python3.9/socketserver.py\", line 360, in finish_request\n",
      "    self.RequestHandlerClass(request, client_address, self)\n",
      "  File \"/opt/conda/lib/python3.9/socketserver.py\", line 747, in __init__\n",
      "    self.handle()\n",
      "  File \"/usr/local/spark/python/pyspark/accumulators.py\", line 262, in handle\n",
      "    poll(accum_updates)\n",
      "  File \"/usr/local/spark/python/pyspark/accumulators.py\", line 235, in poll\n",
      "    if func():\n",
      "  File \"/usr/local/spark/python/pyspark/accumulators.py\", line 239, in accum_updates\n",
      "    num_updates = read_int(self.rfile)\n",
      "  File \"/usr/local/spark/python/pyspark/serializers.py\", line 564, in read_int\n",
      "    raise EOFError\n",
      "EOFError\n",
      "----------------------------------------\n",
      "ERROR:root:Exception while sending command.\n",
      "Traceback (most recent call last):\n",
      "  File \"/usr/local/spark/python/lib/py4j-0.10.9.2-src.zip/py4j/clientserver.py\", line 480, in send_command\n",
      "    raise Py4JNetworkError(\"Answer from Java side is empty\")\n",
      "py4j.protocol.Py4JNetworkError: Answer from Java side is empty\n",
      "\n",
      "During handling of the above exception, another exception occurred:\n",
      "\n",
      "Traceback (most recent call last):\n",
      "  File \"/usr/local/spark/python/lib/py4j-0.10.9.2-src.zip/py4j/java_gateway.py\", line 1038, in send_command\n",
      "    response = connection.send_command(command)\n",
      "  File \"/usr/local/spark/python/lib/py4j-0.10.9.2-src.zip/py4j/clientserver.py\", line 503, in send_command\n",
      "    raise Py4JNetworkError(\n",
      "py4j.protocol.Py4JNetworkError: Error while sending or receiving\n"
     ]
    },
    {
     "ename": "Py4JError",
     "evalue": "An error occurred while calling o1127.fit",
     "output_type": "error",
     "traceback": [
      "\u001b[0;31m---------------------------------------------------------------------------\u001b[0m",
      "\u001b[0;31mPy4JError\u001b[0m                                 Traceback (most recent call last)",
      "\u001b[0;32m/tmp/ipykernel_56/2652894595.py\u001b[0m in \u001b[0;36m<module>\u001b[0;34m\u001b[0m\n\u001b[0;32m----> 1\u001b[0;31m \u001b[0mfitl2_2\u001b[0m\u001b[0;34m=\u001b[0m\u001b[0mfit_model\u001b[0m\u001b[0;34m(\u001b[0m\u001b[0mlr\u001b[0m\u001b[0;34m,\u001b[0m\u001b[0mdataset_l2_p2\u001b[0m\u001b[0;34m)\u001b[0m\u001b[0;34m\u001b[0m\u001b[0;34m\u001b[0m\u001b[0m\n\u001b[0m",
      "\u001b[0;32m/tmp/ipykernel_56/4087527417.py\u001b[0m in \u001b[0;36mfit_model\u001b[0;34m(model, dataset)\u001b[0m\n\u001b[1;32m      1\u001b[0m \u001b[0;32mdef\u001b[0m \u001b[0mfit_model\u001b[0m\u001b[0;34m(\u001b[0m\u001b[0mmodel\u001b[0m\u001b[0;34m,\u001b[0m\u001b[0mdataset\u001b[0m\u001b[0;34m)\u001b[0m\u001b[0;34m:\u001b[0m\u001b[0;34m\u001b[0m\u001b[0;34m\u001b[0m\u001b[0m\n\u001b[1;32m      2\u001b[0m     \u001b[0;34m(\u001b[0m\u001b[0mtrainingData\u001b[0m\u001b[0;34m,\u001b[0m \u001b[0mtestData\u001b[0m\u001b[0;34m)\u001b[0m \u001b[0;34m=\u001b[0m \u001b[0mdataset\u001b[0m\u001b[0;34m.\u001b[0m\u001b[0mrandomSplit\u001b[0m\u001b[0;34m(\u001b[0m\u001b[0;34m[\u001b[0m\u001b[0;36m0.9\u001b[0m\u001b[0;34m,\u001b[0m \u001b[0;36m0.1\u001b[0m\u001b[0;34m]\u001b[0m\u001b[0;34m,\u001b[0m \u001b[0mseed\u001b[0m \u001b[0;34m=\u001b[0m \u001b[0;36m100\u001b[0m\u001b[0;34m)\u001b[0m\u001b[0;34m\u001b[0m\u001b[0;34m\u001b[0m\u001b[0m\n\u001b[0;32m----> 3\u001b[0;31m     \u001b[0mlrModel\u001b[0m \u001b[0;34m=\u001b[0m \u001b[0mlr\u001b[0m\u001b[0;34m.\u001b[0m\u001b[0mfit\u001b[0m\u001b[0;34m(\u001b[0m\u001b[0mtrainingData\u001b[0m\u001b[0;34m)\u001b[0m\u001b[0;34m\u001b[0m\u001b[0;34m\u001b[0m\u001b[0m\n\u001b[0m\u001b[1;32m      4\u001b[0m     \u001b[0;32mreturn\u001b[0m \u001b[0mlrModel\u001b[0m\u001b[0;34m\u001b[0m\u001b[0;34m\u001b[0m\u001b[0m\n",
      "\u001b[0;32m/usr/local/spark/python/pyspark/ml/base.py\u001b[0m in \u001b[0;36mfit\u001b[0;34m(self, dataset, params)\u001b[0m\n\u001b[1;32m    159\u001b[0m                 \u001b[0;32mreturn\u001b[0m \u001b[0mself\u001b[0m\u001b[0;34m.\u001b[0m\u001b[0mcopy\u001b[0m\u001b[0;34m(\u001b[0m\u001b[0mparams\u001b[0m\u001b[0;34m)\u001b[0m\u001b[0;34m.\u001b[0m\u001b[0m_fit\u001b[0m\u001b[0;34m(\u001b[0m\u001b[0mdataset\u001b[0m\u001b[0;34m)\u001b[0m\u001b[0;34m\u001b[0m\u001b[0;34m\u001b[0m\u001b[0m\n\u001b[1;32m    160\u001b[0m             \u001b[0;32melse\u001b[0m\u001b[0;34m:\u001b[0m\u001b[0;34m\u001b[0m\u001b[0;34m\u001b[0m\u001b[0m\n\u001b[0;32m--> 161\u001b[0;31m                 \u001b[0;32mreturn\u001b[0m \u001b[0mself\u001b[0m\u001b[0;34m.\u001b[0m\u001b[0m_fit\u001b[0m\u001b[0;34m(\u001b[0m\u001b[0mdataset\u001b[0m\u001b[0;34m)\u001b[0m\u001b[0;34m\u001b[0m\u001b[0;34m\u001b[0m\u001b[0m\n\u001b[0m\u001b[1;32m    162\u001b[0m         \u001b[0;32melse\u001b[0m\u001b[0;34m:\u001b[0m\u001b[0;34m\u001b[0m\u001b[0;34m\u001b[0m\u001b[0m\n\u001b[1;32m    163\u001b[0m             raise TypeError(\"Params must be either a param map or a list/tuple of param maps, \"\n",
      "\u001b[0;32m/usr/local/spark/python/pyspark/ml/wrapper.py\u001b[0m in \u001b[0;36m_fit\u001b[0;34m(self, dataset)\u001b[0m\n\u001b[1;32m    333\u001b[0m \u001b[0;34m\u001b[0m\u001b[0m\n\u001b[1;32m    334\u001b[0m     \u001b[0;32mdef\u001b[0m \u001b[0m_fit\u001b[0m\u001b[0;34m(\u001b[0m\u001b[0mself\u001b[0m\u001b[0;34m,\u001b[0m \u001b[0mdataset\u001b[0m\u001b[0;34m)\u001b[0m\u001b[0;34m:\u001b[0m\u001b[0;34m\u001b[0m\u001b[0;34m\u001b[0m\u001b[0m\n\u001b[0;32m--> 335\u001b[0;31m         \u001b[0mjava_model\u001b[0m \u001b[0;34m=\u001b[0m \u001b[0mself\u001b[0m\u001b[0;34m.\u001b[0m\u001b[0m_fit_java\u001b[0m\u001b[0;34m(\u001b[0m\u001b[0mdataset\u001b[0m\u001b[0;34m)\u001b[0m\u001b[0;34m\u001b[0m\u001b[0;34m\u001b[0m\u001b[0m\n\u001b[0m\u001b[1;32m    336\u001b[0m         \u001b[0mmodel\u001b[0m \u001b[0;34m=\u001b[0m \u001b[0mself\u001b[0m\u001b[0;34m.\u001b[0m\u001b[0m_create_model\u001b[0m\u001b[0;34m(\u001b[0m\u001b[0mjava_model\u001b[0m\u001b[0;34m)\u001b[0m\u001b[0;34m\u001b[0m\u001b[0;34m\u001b[0m\u001b[0m\n\u001b[1;32m    337\u001b[0m         \u001b[0;32mreturn\u001b[0m \u001b[0mself\u001b[0m\u001b[0;34m.\u001b[0m\u001b[0m_copyValues\u001b[0m\u001b[0;34m(\u001b[0m\u001b[0mmodel\u001b[0m\u001b[0;34m)\u001b[0m\u001b[0;34m\u001b[0m\u001b[0;34m\u001b[0m\u001b[0m\n",
      "\u001b[0;32m/usr/local/spark/python/pyspark/ml/wrapper.py\u001b[0m in \u001b[0;36m_fit_java\u001b[0;34m(self, dataset)\u001b[0m\n\u001b[1;32m    330\u001b[0m         \"\"\"\n\u001b[1;32m    331\u001b[0m         \u001b[0mself\u001b[0m\u001b[0;34m.\u001b[0m\u001b[0m_transfer_params_to_java\u001b[0m\u001b[0;34m(\u001b[0m\u001b[0;34m)\u001b[0m\u001b[0;34m\u001b[0m\u001b[0;34m\u001b[0m\u001b[0m\n\u001b[0;32m--> 332\u001b[0;31m         \u001b[0;32mreturn\u001b[0m \u001b[0mself\u001b[0m\u001b[0;34m.\u001b[0m\u001b[0m_java_obj\u001b[0m\u001b[0;34m.\u001b[0m\u001b[0mfit\u001b[0m\u001b[0;34m(\u001b[0m\u001b[0mdataset\u001b[0m\u001b[0;34m.\u001b[0m\u001b[0m_jdf\u001b[0m\u001b[0;34m)\u001b[0m\u001b[0;34m\u001b[0m\u001b[0;34m\u001b[0m\u001b[0m\n\u001b[0m\u001b[1;32m    333\u001b[0m \u001b[0;34m\u001b[0m\u001b[0m\n\u001b[1;32m    334\u001b[0m     \u001b[0;32mdef\u001b[0m \u001b[0m_fit\u001b[0m\u001b[0;34m(\u001b[0m\u001b[0mself\u001b[0m\u001b[0;34m,\u001b[0m \u001b[0mdataset\u001b[0m\u001b[0;34m)\u001b[0m\u001b[0;34m:\u001b[0m\u001b[0;34m\u001b[0m\u001b[0;34m\u001b[0m\u001b[0m\n",
      "\u001b[0;32m/usr/local/spark/python/lib/py4j-0.10.9.2-src.zip/py4j/java_gateway.py\u001b[0m in \u001b[0;36m__call__\u001b[0;34m(self, *args)\u001b[0m\n\u001b[1;32m   1307\u001b[0m \u001b[0;34m\u001b[0m\u001b[0m\n\u001b[1;32m   1308\u001b[0m         \u001b[0manswer\u001b[0m \u001b[0;34m=\u001b[0m \u001b[0mself\u001b[0m\u001b[0;34m.\u001b[0m\u001b[0mgateway_client\u001b[0m\u001b[0;34m.\u001b[0m\u001b[0msend_command\u001b[0m\u001b[0;34m(\u001b[0m\u001b[0mcommand\u001b[0m\u001b[0;34m)\u001b[0m\u001b[0;34m\u001b[0m\u001b[0;34m\u001b[0m\u001b[0m\n\u001b[0;32m-> 1309\u001b[0;31m         return_value = get_return_value(\n\u001b[0m\u001b[1;32m   1310\u001b[0m             answer, self.gateway_client, self.target_id, self.name)\n\u001b[1;32m   1311\u001b[0m \u001b[0;34m\u001b[0m\u001b[0m\n",
      "\u001b[0;32m/usr/local/spark/python/pyspark/sql/utils.py\u001b[0m in \u001b[0;36mdeco\u001b[0;34m(*a, **kw)\u001b[0m\n\u001b[1;32m    109\u001b[0m     \u001b[0;32mdef\u001b[0m \u001b[0mdeco\u001b[0m\u001b[0;34m(\u001b[0m\u001b[0;34m*\u001b[0m\u001b[0ma\u001b[0m\u001b[0;34m,\u001b[0m \u001b[0;34m**\u001b[0m\u001b[0mkw\u001b[0m\u001b[0;34m)\u001b[0m\u001b[0;34m:\u001b[0m\u001b[0;34m\u001b[0m\u001b[0;34m\u001b[0m\u001b[0m\n\u001b[1;32m    110\u001b[0m         \u001b[0;32mtry\u001b[0m\u001b[0;34m:\u001b[0m\u001b[0;34m\u001b[0m\u001b[0;34m\u001b[0m\u001b[0m\n\u001b[0;32m--> 111\u001b[0;31m             \u001b[0;32mreturn\u001b[0m \u001b[0mf\u001b[0m\u001b[0;34m(\u001b[0m\u001b[0;34m*\u001b[0m\u001b[0ma\u001b[0m\u001b[0;34m,\u001b[0m \u001b[0;34m**\u001b[0m\u001b[0mkw\u001b[0m\u001b[0;34m)\u001b[0m\u001b[0;34m\u001b[0m\u001b[0;34m\u001b[0m\u001b[0m\n\u001b[0m\u001b[1;32m    112\u001b[0m         \u001b[0;32mexcept\u001b[0m \u001b[0mpy4j\u001b[0m\u001b[0;34m.\u001b[0m\u001b[0mprotocol\u001b[0m\u001b[0;34m.\u001b[0m\u001b[0mPy4JJavaError\u001b[0m \u001b[0;32mas\u001b[0m \u001b[0me\u001b[0m\u001b[0;34m:\u001b[0m\u001b[0;34m\u001b[0m\u001b[0;34m\u001b[0m\u001b[0m\n\u001b[1;32m    113\u001b[0m             \u001b[0mconverted\u001b[0m \u001b[0;34m=\u001b[0m \u001b[0mconvert_exception\u001b[0m\u001b[0;34m(\u001b[0m\u001b[0me\u001b[0m\u001b[0;34m.\u001b[0m\u001b[0mjava_exception\u001b[0m\u001b[0;34m)\u001b[0m\u001b[0;34m\u001b[0m\u001b[0;34m\u001b[0m\u001b[0m\n",
      "\u001b[0;32m/usr/local/spark/python/lib/py4j-0.10.9.2-src.zip/py4j/protocol.py\u001b[0m in \u001b[0;36mget_return_value\u001b[0;34m(answer, gateway_client, target_id, name)\u001b[0m\n\u001b[1;32m    332\u001b[0m                     format(target_id, \".\", name, value))\n\u001b[1;32m    333\u001b[0m         \u001b[0;32melse\u001b[0m\u001b[0;34m:\u001b[0m\u001b[0;34m\u001b[0m\u001b[0;34m\u001b[0m\u001b[0m\n\u001b[0;32m--> 334\u001b[0;31m             raise Py4JError(\n\u001b[0m\u001b[1;32m    335\u001b[0m                 \u001b[0;34m\"An error occurred while calling {0}{1}{2}\"\u001b[0m\u001b[0;34m.\u001b[0m\u001b[0;34m\u001b[0m\u001b[0;34m\u001b[0m\u001b[0m\n\u001b[1;32m    336\u001b[0m                 format(target_id, \".\", name))\n",
      "\u001b[0;31mPy4JError\u001b[0m: An error occurred while calling o1127.fit"
     ]
    }
   ],
   "source": [
    "fitl2_2=fit_model(lr,dataset_l2_p2)"
   ]
  },
  {
   "cell_type": "markdown",
   "id": "0d951973-566c-4013-8d18-f0b14ae44e80",
   "metadata": {},
   "source": [
    "##### level 3"
   ]
  },
  {
   "cell_type": "code",
   "execution_count": null,
   "id": "b5ff0c6c-b7dd-4532-bece-9ec607b9b2a3",
   "metadata": {},
   "outputs": [],
   "source": [
    "fitl3_1=fit_model(lr,dataset_l3_p1)"
   ]
  },
  {
   "cell_type": "code",
   "execution_count": null,
   "id": "dd202a1d-5f58-45d2-846c-486425f15bd7",
   "metadata": {},
   "outputs": [],
   "source": [
    "fitl3_2=fit_model(lr,dataset_l3_p2)"
   ]
  },
  {
   "cell_type": "code",
   "execution_count": 60,
   "id": "2b7d844d-ddc9-4800-a815-7b88fcd74f45",
   "metadata": {},
   "outputs": [],
   "source": [
    "df=risque.select(col(\"label\"),col(\"text_class\")).distinct()"
   ]
  },
  {
   "cell_type": "code",
   "execution_count": 73,
   "id": "f80fcc1c-77e1-4f25-ba54-f54807f23d0e",
   "metadata": {},
   "outputs": [
    {
     "data": {
      "text/plain": [
       "2.0"
      ]
     },
     "execution_count": 73,
     "metadata": {},
     "output_type": "execute_result"
    }
   ],
   "source": [
    "df.collect()[0][0]"
   ]
  },
  {
   "cell_type": "code",
   "execution_count": 76,
   "id": "75f0dc61-cd1a-4027-8538-9e1e82a1138b",
   "metadata": {},
   "outputs": [
    {
     "data": {
      "text/plain": [
       "'Species'"
      ]
     },
     "execution_count": 76,
     "metadata": {},
     "output_type": "execute_result"
    }
   ],
   "source": [
    "df.collect()[0][1]"
   ]
  },
  {
   "cell_type": "code",
   "execution_count": 62,
   "id": "b069fe3c-d87d-4a83-8e96-4991f0685950",
   "metadata": {},
   "outputs": [
    {
     "name": "stderr",
     "output_type": "stream",
     "text": [
      "                                                                                \r"
     ]
    }
   ],
   "source": [
    "n=df.collect()"
   ]
  },
  {
   "cell_type": "code",
   "execution_count": 71,
   "id": "04888a46-77a8-4a53-bfc5-d74261279732",
   "metadata": {},
   "outputs": [],
   "source": [
    "type(n[0])\n",
    "dico={}\n",
    "for row in range(0,len(n)):\n",
    "    \n",
    "    \n",
    "    \n",
    "    \n",
    "    \n",
    "    "
   ]
  },
  {
   "cell_type": "code",
   "execution_count": null,
   "id": "77811803-f890-4384-a9f0-d54085cb1c6e",
   "metadata": {},
   "outputs": [],
   "source": []
  },
  {
   "cell_type": "code",
   "execution_count": 100,
   "id": "c138bef6-86ec-46f0-8ce0-1055380aea54",
   "metadata": {},
   "outputs": [
    {
     "name": "stderr",
     "output_type": "stream",
     "text": [
      "[Stage 156:>                                                        (0 + 1) / 1]\r"
     ]
    },
    {
     "name": "stdout",
     "output_type": "stream",
     "text": [
      "+--------------------+--------------+--------------------+--------------------+--------------------+-----+--------------------+--------------------+----------+\n",
      "|                text|            l1|               words|            filtered|            features|label|       rawPrediction|         probability|prediction|\n",
      "+--------------------+--------------+--------------------+--------------------+--------------------+-----+--------------------+--------------------+----------+\n",
      "|\"\"\"Echourouk TV\\\"...|         Agent|[echourouk, tv, a...|[echourouk, tv, a...|(10000,[1,2,3,4,5...|  0.0|[2.99682356653826...|[0.71343850416859...|       0.0|\n",
      "|\"3757 Anagolay, p...|         Place|[3757, anagolay, ...|[3757, anagolay, ...|(10000,[0,1,2,3,4...|  1.0|[0.45869983148295...|[0.00144256628818...|       1.0|\n",
      "|\"Abies hidalgensi...|       Species|[abies, hidalgens...|[abies, hidalgens...|(10000,[0,1,2,3,4...|  2.0|[-0.2417903089158...|[0.00138855432011...|       2.0|\n",
      "|\"American Communi...|    UnitOfWork|[american, commun...|[american, commun...|(10000,[0,1,2,3,4...|  5.0|[1.31072735681431...|[0.19633681796646...|       5.0|\n",
      "|\"Andrew \"\"Andy\\\"\"...|         Agent|[andrew, andy, ho...|[andrew, andy, ho...|(10000,[2,3,5,7,1...|  0.0|[3.51632495731472...|[0.83466838905424...|       0.0|\n",
      "|\"Antonia de Ovied...|         Agent|[antonia, de, ovi...|[antonia, de, ovi...|(10000,[0,1,2,3,5...|  0.0|[4.94780231464488...|[0.96868152572600...|       0.0|\n",
      "|\"Basic Education ...|         Agent|[basic, education...|[basic, education...|(10000,[0,1,3,4,6...|  0.0|[4.65994711716818...|[0.94968823507906...|       0.0|\n",
      "|\"Bergün/Bravuogn ...|         Place|[berg, n, bravuog...|[berg, n, bravuog...|(10000,[0,1,3,4,6...|  1.0|[1.62287574706747...|[0.11585685180258...|       1.0|\n",
      "|\"Candombe is an U...|TopicalConcept|[candombe, is, an...|[candombe, is, an...|(10000,[0,1,2,3,4...|  6.0|[1.43812813136211...|[0.32388999713883...|       0.0|\n",
      "|\"Charales is an o...|       Species|[charales, is, an...|[charales, is, an...|(10000,[0,1,4,9,1...|  2.0|[1.85608250771087...|[0.29320883644769...|       2.0|\n",
      "|\"Charleston Area ...|         Place|[charleston, area...|[charleston, area...|(10000,[0,1,2,3,4...|  1.0|[0.52464336149042...|[2.90757651766736...|       1.0|\n",
      "|\"Chris Murphy (bo...|         Agent|[chris, murphy, b...|[chris, murphy, b...|(10000,[0,1,2,3,4...|  0.0|[4.28681202451743...|[0.91938204766349...|       0.0|\n",
      "|\"Cytherea (born S...|         Agent|[cytherea, born, ...|[cytherea, born, ...|(10000,[0,2,4,6,8...|  0.0|[3.79843226227284...|[0.88084894190065...|       0.0|\n",
      "|\"Don Martin (May ...|         Agent|[don, martin, may...|[don, martin, may...|(10000,[0,2,5,6,9...|  0.0|[3.81198974095505...|[0.88883258025523...|       0.0|\n",
      "|\"Doug Suisman (bo...|         Agent|[doug, suisman, b...|[doug, suisman, b...|(10000,[0,1,2,3,4...|  0.0|[6.31317771484076...|[0.99351074788954...|       0.0|\n",
      "|\"Emanuil Gojdu Na...|         Agent|[emanuil, gojdu, ...|[emanuil, gojdu, ...|(10000,[0,3,4,10,...|  0.0|[2.56056075012448...|[0.52151192836067...|       0.0|\n",
      "|\"Erjon Bogdani (b...|         Agent|[erjon, bogdani, ...|[erjon, bogdani, ...|(10000,[0,2,3,4,7...|  0.0|[4.4780858260978,...|[0.94682016391495...|       0.0|\n",
      "|\"Ernest \"\"Ern\\\"\" ...|         Agent|[ernest, ern, wet...|[ernest, ern, wet...|(10000,[1,2,3,5,7...|  0.0|[3.74472615375287...|[0.87197515276490...|       0.0|\n",
      "|\"Fox Sports News ...|         Agent|[fox, sports, new...|[fox, sports, new...|(10000,[0,1,2,3,4...|  0.0|[5.74211511398744...|[0.98284905192475...|       0.0|\n",
      "|\"Frank Horace Hah...|         Agent|[frank, horace, h...|[frank, horace, h...|(10000,[0,1,2,3,4...|  0.0|[3.53256043750254...|[0.84353969415943...|       0.0|\n",
      "+--------------------+--------------+--------------------+--------------------+--------------------+-----+--------------------+--------------------+----------+\n",
      "only showing top 20 rows\n",
      "\n"
     ]
    },
    {
     "name": "stderr",
     "output_type": "stream",
     "text": [
      "                                                                                \r"
     ]
    }
   ],
   "source": [
    "test.show()\n"
   ]
  },
  {
   "cell_type": "code",
   "execution_count": 28,
   "id": "d3a848f2-6385-4724-8756-df8b40877eb3",
   "metadata": {},
   "outputs": [],
   "source": [
    "evaluator = MulticlassClassificationEvaluator(predictionCol=\"prediction\",labelCol=\"label\",metricName='f1')"
   ]
  },
  {
   "cell_type": "markdown",
   "id": "1e9ba999-6d40-4d03-b0f6-38ba644ca209",
   "metadata": {},
   "source": [
    "###### Score avec Count Vectorizer"
   ]
  },
  {
   "cell_type": "code",
   "execution_count": 32,
   "id": "1feb2169-dbf4-421b-92d1-585199c21a7d",
   "metadata": {},
   "outputs": [
    {
     "ename": "NameError",
     "evalue": "name 'test1' is not defined",
     "output_type": "error",
     "traceback": [
      "\u001b[0;31m---------------------------------------------------------------------------\u001b[0m",
      "\u001b[0;31mNameError\u001b[0m                                 Traceback (most recent call last)",
      "\u001b[0;32m/tmp/ipykernel_56/221201392.py\u001b[0m in \u001b[0;36m<module>\u001b[0;34m\u001b[0m\n\u001b[0;32m----> 1\u001b[0;31m \u001b[0mevaluator\u001b[0m\u001b[0;34m.\u001b[0m\u001b[0mevaluate\u001b[0m\u001b[0;34m(\u001b[0m\u001b[0mtest1\u001b[0m\u001b[0;34m)\u001b[0m\u001b[0;34m\u001b[0m\u001b[0;34m\u001b[0m\u001b[0m\n\u001b[0m",
      "\u001b[0;31mNameError\u001b[0m: name 'test1' is not defined"
     ]
    }
   ],
   "source": [
    "evaluator.evaluate(test1)"
   ]
  },
  {
   "cell_type": "markdown",
   "id": "c6cb56af-ca20-4bf4-9d6d-1ee6127d32d9",
   "metadata": {},
   "source": [
    "###### Score avec TF/IDF"
   ]
  },
  {
   "cell_type": "code",
   "execution_count": 46,
   "id": "d96b5e77-8861-4a61-9c63-da8d873aed5a",
   "metadata": {},
   "outputs": [
    {
     "name": "stderr",
     "output_type": "stream",
     "text": [
      "                                                                                \r"
     ]
    },
    {
     "data": {
      "text/plain": [
       "0.916509190912641"
      ]
     },
     "execution_count": 46,
     "metadata": {},
     "output_type": "execute_result"
    }
   ],
   "source": [
    "evaluator.evaluate(test2)"
   ]
  },
  {
   "cell_type": "markdown",
   "id": "ad6687e7-00fb-4550-805d-df99a66390f3",
   "metadata": {},
   "source": [
    "###### Score avec Word2Vec"
   ]
  },
  {
   "cell_type": "code",
   "execution_count": 47,
   "id": "2f25aff2-0694-4dee-bdc8-8a564e523585",
   "metadata": {},
   "outputs": [
    {
     "name": "stderr",
     "output_type": "stream",
     "text": [
      "                                                                                \r"
     ]
    },
    {
     "data": {
      "text/plain": [
       "0.8505022768303262"
      ]
     },
     "execution_count": 47,
     "metadata": {},
     "output_type": "execute_result"
    }
   ],
   "source": [
    "evaluator.evaluate(test3)"
   ]
  },
  {
   "cell_type": "markdown",
   "id": "8bc5b823-6688-4703-b43e-dfa13f98ebb1",
   "metadata": {},
   "source": [
    "### On passe à l'optimisation d'hyper parametres, tentative 1:"
   ]
  },
  {
   "cell_type": "code",
   "execution_count": 3,
   "id": "a4bd5827-627b-45dc-9812-f08c3190ff3f",
   "metadata": {},
   "outputs": [],
   "source": [
    "path = \"DBPEDIA_val.csv/DBPEDIA_val.csv\"\n",
    "df_val = spark.read.format('csv').options(header=True,delimiter=',').load(path)"
   ]
  },
  {
   "cell_type": "code",
   "execution_count": null,
   "id": "badfda57-7a0c-4f39-827e-dc9f885b35e8",
   "metadata": {},
   "outputs": [
    {
     "name": "stderr",
     "output_type": "stream",
     "text": [
      "[Stage 116:>                                                        (0 + 8) / 8]\r"
     ]
    }
   ],
   "source": [
    "evaluator = MulticlassClassificationEvaluator(predictionCol=\"prediction\",labelCol=\"label\",metricName='f1')\n",
    "grid = ParamGridBuilder().addGrid(lr.maxIter, [0, 1]).build()\n",
    "lr = LogisticRegression(featuresCol='features',labelCol='label')\n",
    "cv = CrossValidator(estimator=lr, estimatorParamMaps=grid, evaluator=evaluator,\n",
    "    parallelism=2)\n",
    "cvModel = cv.fit(data)"
   ]
  },
  {
   "cell_type": "code",
   "execution_count": null,
   "id": "3e6ee5a2-c480-4197-b9a6-3a5d116d05dd",
   "metadata": {},
   "outputs": [],
   "source": [
    "cvModel"
   ]
  },
  {
   "cell_type": "code",
   "execution_count": 34,
   "id": "65332131-df1f-4b12-b7dd-1f67c3d8af99",
   "metadata": {},
   "outputs": [],
   "source": [
    "cvm = cvModel.transform(data)"
   ]
  },
  {
   "cell_type": "code",
   "execution_count": 35,
   "id": "00f44f2a-caa0-47ed-a86c-9dbe586e803f",
   "metadata": {},
   "outputs": [
    {
     "name": "stdout",
     "output_type": "stream",
     "text": [
      "+--------------------+----------+--------------------+--------------------+--------------------+--------------------+--------------------+-----+--------------------+--------------------+----------+\n",
      "|                text|        l1|                  l2|                  l3|               words|            filtered|            features|label|       rawPrediction|         probability|prediction|\n",
      "+--------------------+----------+--------------------+--------------------+--------------------+--------------------+--------------------+-----+--------------------+--------------------+----------+\n",
      "|William Alexander...|     Agent|          Politician|             Senator|[william, alexand...|[william, alexand...|(10000,[0,8,17,19...|  0.0|[5.02644512438456...|[0.97139377838186...|       0.0|\n",
      "|Pirqa (Aymara and...|     Place|        NaturalPlace|            Mountain|[pirqa, aymara, a...|[pirqa, aymara, q...|(10000,[22,37,61,...|  1.0|[1.27078119837361...|[0.08807323626568...|       1.0|\n",
      "|Sistrurus catenat...|   Species|              Animal|             Reptile|[sistrurus, caten...|[sistrurus, caten...|(10000,[13,17,25,...|  2.0|[1.36033079048137...|[0.17309406492757...|       2.0|\n",
      "|The 1st Battalion...|     Agent|        Organisation|        MilitaryUnit|[the, 1st, battal...|[1st, battalion, ...|(10000,[8,17,25,2...|  0.0|[2.51524302543496...|[0.59495380354335...|       0.0|\n",
      "|John Warren Davis...|     Agent|              Person|               Judge|[john, warren, da...|[john, warren, da...|(10000,[9,18,38,5...|  0.0|[3.25029667144556...|[0.78036393408471...|       0.0|\n",
      "|Alfrēds Hartmanis...|     Agent|             Athlete|         ChessPlayer|[alfr, ds, hartma...|[alfr, ds, hartma...|(10000,[8,48,64,7...|  0.0|[3.11163086552592...|[0.74048716022927...|       0.0|\n",
      "|The International...|     Agent|        Organisation|          TradeUnion|[the, internation...|[international, a...|(10000,[17,25,51,...|  0.0|[3.31060347730313...|[0.81357525511827...|       0.0|\n",
      "|The 31st Battalio...|     Agent|        Organisation|        MilitaryUnit|[the, 31st, batta...|[31st, battalion,...|(10000,[6,8,11,13...|  0.0|[7.07926285944824...|[0.98886032255012...|       0.0|\n",
      "|Agonopterix furve...|   Species|              Animal|              Insect|[agonopterix, fur...|[agonopterix, fur...|(10000,[46,144,25...|  2.0|[1.69366510018068...|[0.22894694833715...|       2.0|\n",
      "|Chamber of Commer...|UnitOfWork|           LegalCase|SupremeCourtOfThe...|[chamber, of, com...|[chamber, commerc...|(10000,[17,21,25,...|  5.0|[1.55137628133667...|[0.38711708292138...|       0.0|\n",
      "|Nicolas Coutelot ...|     Agent|             Athlete|        TennisPlayer|[nicolas, coutelo...|[nicolas, coutelo...|(10000,[0,2,11,13...|  0.0|[3.98834400507817...|[0.90307637378094...|       0.0|\n",
      "|Ashley Morris (bo...|     Agent|     MotorcycleRider|       SpeedwayRider|[ashley, morris, ...|[ashley, morris, ...|(10000,[0,2,3,5,7...|  0.0|[5.85296836710203...|[0.98780602099207...|       0.0|\n",
      "|Ambassador Intern...|     Agent|             Company|           Publisher|[ambassador, inte...|[ambassador, inte...|(10000,[5,7,9,15,...|  0.0|[9.72637288830128...|[0.99991309007690...|       0.0|\n",
      "|Catrin Maria Nils...|     Agent|             Athlete|          GolfPlayer|[catrin, maria, n...|[catrin, maria, n...|(10000,[0,10,17,2...|  0.0|[3.45023035203412...|[0.82766910164487...|       0.0|\n",
      "|Axel Reinhold Stå...|     Agent|             Athlete|          HorseRider|[axel, reinhold, ...|[axel, reinhold, ...|(10000,[3,8,70,71...|  0.0|[3.38368103175899...|[0.81113326707112...|       0.0|\n",
      "|The Mall Wood Gre...|     Place|            Building|        ShoppingMall|[the, mall, wood,...|[mall, wood, gree...|(10000,[27,34,36,...|  1.0|[1.53681381673613...|[0.08028765919136...|       1.0|\n",
      "|The A412 is a roa...|     Place|RouteOfTransporta...|                Road|[the, a412, is, a...|[a412, road, engl...|(10000,[105,127,1...|  1.0|[1.68817899163716...|[0.19356829652579...|       1.0|\n",
      "|Werner Otto Sanne...|     Agent|              Person|      MilitaryPerson|[werner, otto, sa...|[werner, otto, sa...|(10000,[9,11,37,3...|  0.0|[5.76498396928887...|[0.98549450786071...|       0.0|\n",
      "|The 2012 West Lot...|     Event|       SocietalEvent|            Election|[the, 2012, west,...|[2012, west, loth...|(10000,[2,14,15,2...|  3.0|[2.59056494666222...|[0.14455760351696...|       3.0|\n",
      "|Grand Arena is lo...|     Place|            Building|        ShoppingMall|[grand, arena, is...|[grand, arena, lo...|(10000,[15,20,22,...|  1.0|[1.59329328996478...|[0.13983579302965...|       1.0|\n",
      "+--------------------+----------+--------------------+--------------------+--------------------+--------------------+--------------------+-----+--------------------+--------------------+----------+\n",
      "only showing top 20 rows\n",
      "\n"
     ]
    }
   ],
   "source": [
    "cvm.show()"
   ]
  },
  {
   "cell_type": "markdown",
   "id": "f9be0396-4255-48cf-ab65-a40697fbbd19",
   "metadata": {},
   "source": [
    "### Tentative de streaming"
   ]
  },
  {
   "cell_type": "code",
   "execution_count": null,
   "id": "8cee53f1-752b-43a7-bb4e-0666f63082a4",
   "metadata": {},
   "outputs": [],
   "source": []
  },
  {
   "cell_type": "code",
   "execution_count": null,
   "id": "4393b1aa-3aff-46dd-9325-ffe85d1ee947",
   "metadata": {},
   "outputs": [],
   "source": []
  },
  {
   "cell_type": "code",
   "execution_count": null,
   "id": "7626058a-4c25-4c38-9a2c-92ef0e9c5910",
   "metadata": {},
   "outputs": [],
   "source": []
  },
  {
   "cell_type": "code",
   "execution_count": null,
   "id": "e7bfba60-1b69-4973-9124-a11551622b39",
   "metadata": {},
   "outputs": [],
   "source": []
  },
  {
   "cell_type": "code",
   "execution_count": null,
   "id": "7794dc3e-0857-4900-8fe7-354af68f807e",
   "metadata": {},
   "outputs": [],
   "source": []
  }
 ],
 "metadata": {
  "kernelspec": {
   "display_name": "Python 3 (ipykernel)",
   "language": "python",
   "name": "python3"
  },
  "language_info": {
   "codemirror_mode": {
    "name": "ipython",
    "version": 3
   },
   "file_extension": ".py",
   "mimetype": "text/x-python",
   "name": "python",
   "nbconvert_exporter": "python",
   "pygments_lexer": "ipython3",
   "version": "3.9.7"
  }
 },
 "nbformat": 4,
 "nbformat_minor": 5
}
